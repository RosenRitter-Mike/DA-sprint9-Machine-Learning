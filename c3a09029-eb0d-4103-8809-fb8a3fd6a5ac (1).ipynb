{
 "cells": [
  {
   "cell_type": "markdown",
   "metadata": {},
   "source": [
    "**Review**\n",
    "\n",
    "Hi, my name is Dmitry and I will be reviewing your project.\n",
    "  \n",
    "You can find my comments in colored markdown cells:\n",
    "  \n",
    "<div class=\"alert alert-success\">\n",
    "  If everything is done successfully.\n",
    "</div>\n",
    "  \n",
    "<div class=\"alert alert-warning\">\n",
    "  If I have some (optional) suggestions, or questions to think about, or general comments.\n",
    "</div>\n",
    "  \n",
    "<div class=\"alert alert-danger\">\n",
    "  If a section requires some corrections. Work can't be accepted with red comments.\n",
    "</div>\n",
    "  \n",
    "Please don't remove my comments, as it will make further review iterations much harder for me.\n",
    "  \n",
    "Feel free to reply to my comments or ask questions using the following template:\n",
    "  \n",
    "<div class=\"alert alert-info\">\n",
    "  For your comments and questions.\n",
    "</div>\n",
    "  \n",
    "First of all, thank you for turning in the project! You did an excellent job! The project is accepted. Good luck on the final sprint!"
   ]
  },
  {
   "cell_type": "markdown",
   "metadata": {},
   "source": [
    "## Project Title: Model Fitness customer interaction strategy"
   ]
  },
  {
   "cell_type": "markdown",
   "metadata": {},
   "source": [
    "### Project description\n",
    "\n",
    "The gym chain Model Fitness is developing a customer interaction strategy based on analytical data.\n",
    "One of the most common problems gyms and other services face is customer churn.\n",
    "\n",
    "For a gym, it makes sense to say a customer has left if they don't come for a month. Of course, it's possible they're in Cancun and will resume their visits when they return, but's that's not a typical case. Usually, if a customer joins, comes a few times, then disappears, they're unlikely to come back.\n",
    "In order to fight churn, Model Fitness has digitized a number of its customer profiles.\n"
   ]
  },
  {
   "cell_type": "code",
   "execution_count": 1,
   "metadata": {},
   "outputs": [
    {
     "name": "stdout",
     "output_type": "stream",
     "text": [
      "\u001b[33mWARNING: Ignoring invalid distribution -eaborn (/opt/conda/lib/python3.9/site-packages)\u001b[0m\u001b[33m\n",
      "\u001b[0m\u001b[33mWARNING: Ignoring invalid distribution -eaborn (/opt/conda/lib/python3.9/site-packages)\u001b[0m\u001b[33m\n",
      "\u001b[0mRequirement already satisfied: pip in /opt/conda/lib/python3.9/site-packages (22.1.1)\n",
      "\u001b[33mWARNING: Ignoring invalid distribution -eaborn (/opt/conda/lib/python3.9/site-packages)\u001b[0m\u001b[33m\n",
      "\u001b[0m\u001b[33mWARNING: Ignoring invalid distribution -eaborn (/opt/conda/lib/python3.9/site-packages)\u001b[0m\u001b[33m\n",
      "\u001b[0m\u001b[33mWARNING: Ignoring invalid distribution -eaborn (/opt/conda/lib/python3.9/site-packages)\u001b[0m\u001b[33m\n",
      "\u001b[0m\u001b[33mWARNING: Ignoring invalid distribution -eaborn (/opt/conda/lib/python3.9/site-packages)\u001b[0m\u001b[33m\n",
      "\u001b[0m\u001b[33mWARNING: Ignoring invalid distribution -eaborn (/opt/conda/lib/python3.9/site-packages)\u001b[0m\u001b[33m\n",
      "\u001b[0m\u001b[33mWARNING: Ignoring invalid distribution -eaborn (/opt/conda/lib/python3.9/site-packages)\u001b[0m\u001b[33m\n",
      "\u001b[0mRequirement already satisfied: sidetable in /opt/conda/lib/python3.9/site-packages (0.9.0)\n",
      "Requirement already satisfied: pandas>=1.0 in /opt/conda/lib/python3.9/site-packages (from sidetable) (1.2.4)\n",
      "Requirement already satisfied: python-dateutil>=2.7.3 in /opt/conda/lib/python3.9/site-packages (from pandas>=1.0->sidetable) (2.8.2)\n",
      "Requirement already satisfied: pytz>=2017.3 in /opt/conda/lib/python3.9/site-packages (from pandas>=1.0->sidetable) (2021.3)\n",
      "Requirement already satisfied: numpy>=1.16.5 in /opt/conda/lib/python3.9/site-packages (from pandas>=1.0->sidetable) (1.22.3)\n",
      "Requirement already satisfied: six>=1.5 in /opt/conda/lib/python3.9/site-packages (from python-dateutil>=2.7.3->pandas>=1.0->sidetable) (1.16.0)\n",
      "\u001b[33mWARNING: Ignoring invalid distribution -eaborn (/opt/conda/lib/python3.9/site-packages)\u001b[0m\u001b[33m\n",
      "\u001b[0m\u001b[33mWARNING: Ignoring invalid distribution -eaborn (/opt/conda/lib/python3.9/site-packages)\u001b[0m\u001b[33m\n",
      "\u001b[0m\u001b[33mWARNING: Ignoring invalid distribution -eaborn (/opt/conda/lib/python3.9/site-packages)\u001b[0m\u001b[33m\n",
      "\u001b[0m\u001b[33mWARNING: Ignoring invalid distribution -eaborn (/opt/conda/lib/python3.9/site-packages)\u001b[0m\u001b[33m\n",
      "\u001b[0m\u001b[33mWARNING: Ignoring invalid distribution -eaborn (/opt/conda/lib/python3.9/site-packages)\u001b[0m\u001b[33m\n",
      "\u001b[0m\u001b[33mWARNING: Ignoring invalid distribution -eaborn (/opt/conda/lib/python3.9/site-packages)\u001b[0m\u001b[33m\n",
      "\u001b[0mRequirement already satisfied: seaborn in /opt/conda/lib/python3.9/site-packages (0.11.1)\n",
      "Collecting seaborn\n",
      "  Using cached seaborn-0.11.2-py3-none-any.whl (292 kB)\n",
      "Requirement already satisfied: pandas>=0.23 in /opt/conda/lib/python3.9/site-packages (from seaborn) (1.2.4)\n",
      "Requirement already satisfied: numpy>=1.15 in /opt/conda/lib/python3.9/site-packages (from seaborn) (1.22.3)\n",
      "Requirement already satisfied: scipy>=1.0 in /opt/conda/lib/python3.9/site-packages (from seaborn) (1.8.0)\n",
      "Requirement already satisfied: matplotlib>=2.2 in /opt/conda/lib/python3.9/site-packages (from seaborn) (3.3.4)\n",
      "Requirement already satisfied: pillow>=6.2.0 in /opt/conda/lib/python3.9/site-packages (from matplotlib>=2.2->seaborn) (8.4.0)\n",
      "Requirement already satisfied: pyparsing!=2.0.4,!=2.1.2,!=2.1.6,>=2.0.3 in /opt/conda/lib/python3.9/site-packages (from matplotlib>=2.2->seaborn) (3.0.6)\n",
      "Requirement already satisfied: kiwisolver>=1.0.1 in /opt/conda/lib/python3.9/site-packages (from matplotlib>=2.2->seaborn) (1.4.2)\n",
      "Requirement already satisfied: cycler>=0.10 in /opt/conda/lib/python3.9/site-packages (from matplotlib>=2.2->seaborn) (0.11.0)\n",
      "Requirement already satisfied: python-dateutil>=2.1 in /opt/conda/lib/python3.9/site-packages (from matplotlib>=2.2->seaborn) (2.8.2)\n",
      "Requirement already satisfied: pytz>=2017.3 in /opt/conda/lib/python3.9/site-packages (from pandas>=0.23->seaborn) (2021.3)\n",
      "Requirement already satisfied: six>=1.5 in /opt/conda/lib/python3.9/site-packages (from python-dateutil>=2.1->matplotlib>=2.2->seaborn) (1.16.0)\n",
      "\u001b[33mWARNING: Ignoring invalid distribution -eaborn (/opt/conda/lib/python3.9/site-packages)\u001b[0m\u001b[33m\n",
      "\u001b[0mInstalling collected packages: seaborn\n",
      "  Attempting uninstall: seaborn\n",
      "\u001b[33m    WARNING: Ignoring invalid distribution -eaborn (/opt/conda/lib/python3.9/site-packages)\u001b[0m\u001b[33m\n",
      "\u001b[0m    Found existing installation: seaborn 0.11.1\n",
      "    Uninstalling seaborn-0.11.1:\n",
      "\u001b[31mERROR: Could not install packages due to an OSError: [Errno 13] Permission denied: 'REQUESTED'\n",
      "Consider using the `--user` option or check the permissions.\n",
      "\u001b[0m\u001b[31m\n",
      "\u001b[0m\u001b[33mWARNING: Ignoring invalid distribution -eaborn (/opt/conda/lib/python3.9/site-packages)\u001b[0m\u001b[33m\n",
      "\u001b[0m\u001b[33mWARNING: Ignoring invalid distribution -eaborn (/opt/conda/lib/python3.9/site-packages)\u001b[0m\u001b[33m\n",
      "\u001b[0m\u001b[33mWARNING: Ignoring invalid distribution -eaborn (/opt/conda/lib/python3.9/site-packages)\u001b[0m\u001b[33m\n",
      "\u001b[0m"
     ]
    }
   ],
   "source": [
    "!python -m pip install --upgrade pip\n",
    "!python -m pip install sidetable -U\n",
    "!python -m pip install -U seaborn "
   ]
  },
  {
   "cell_type": "code",
   "execution_count": 2,
   "metadata": {},
   "outputs": [],
   "source": [
    "# Loading all the libraries\n",
    "\n",
    "import pandas as pd\n",
    "import numpy as np\n",
    "from scipy import stats as st\n",
    "from scipy.cluster import hierarchy\n",
    "import datetime as dt\n",
    "import seaborn as sns\n",
    "import matplotlib.pyplot as plt\n",
    "import sidetable as stb\n",
    "import plotly.express as px\n",
    "import plotly.graph_objects as go\n",
    "import math \n",
    "from sklearn.model_selection import train_test_split\n",
    "from sklearn.linear_model import LogisticRegression\n",
    "from sklearn.tree import DecisionTreeClassifier\n",
    "from sklearn.preprocessing import StandardScaler\n",
    "from sklearn.ensemble import RandomForestClassifier, GradientBoostingClassifier\n",
    "from sklearn.metrics import accuracy_score, precision_score, recall_score, f1_score\n",
    "from sklearn.metrics import roc_auc_score\n",
    "from sklearn.metrics import silhouette_score\n",
    "from scipy.cluster.hierarchy import dendrogram, linkage \n",
    "from sklearn.cluster import KMeans\n",
    "from functools import reduce\n",
    "from statsmodels.stats.proportion import proportions_ztest\n",
    "import re\n",
    "import string\n",
    "\n",
    "%matplotlib inline\n",
    "\n",
    "pd.options.display.float_format = '{:.3f}'.format\n",
    "#pd.options.display.max_colwidth = 100  "
   ]
  },
  {
   "cell_type": "code",
   "execution_count": 3,
   "metadata": {},
   "outputs": [],
   "source": [
    "import sys\n",
    "import warnings\n",
    "if not sys.warnoptions:\n",
    "        warnings.simplefilter(\"ignore\");"
   ]
  },
  {
   "cell_type": "markdown",
   "metadata": {},
   "source": [
    "### Step 1. Download the data "
   ]
  },
  {
   "cell_type": "code",
   "execution_count": 4,
   "metadata": {},
   "outputs": [
    {
     "data": {
      "text/html": [
       "<div>\n",
       "<style scoped>\n",
       "    .dataframe tbody tr th:only-of-type {\n",
       "        vertical-align: middle;\n",
       "    }\n",
       "\n",
       "    .dataframe tbody tr th {\n",
       "        vertical-align: top;\n",
       "    }\n",
       "\n",
       "    .dataframe thead th {\n",
       "        text-align: right;\n",
       "    }\n",
       "</style>\n",
       "<table border=\"1\" class=\"dataframe\">\n",
       "  <thead>\n",
       "    <tr style=\"text-align: right;\">\n",
       "      <th></th>\n",
       "      <th>gender</th>\n",
       "      <th>Near_Location</th>\n",
       "      <th>Partner</th>\n",
       "      <th>Promo_friends</th>\n",
       "      <th>Phone</th>\n",
       "      <th>Contract_period</th>\n",
       "      <th>Group_visits</th>\n",
       "      <th>Age</th>\n",
       "      <th>Avg_additional_charges_total</th>\n",
       "      <th>Month_to_end_contract</th>\n",
       "      <th>Lifetime</th>\n",
       "      <th>Avg_class_frequency_total</th>\n",
       "      <th>Avg_class_frequency_current_month</th>\n",
       "      <th>Churn</th>\n",
       "    </tr>\n",
       "  </thead>\n",
       "  <tbody>\n",
       "    <tr>\n",
       "      <th>0</th>\n",
       "      <td>1</td>\n",
       "      <td>1</td>\n",
       "      <td>1</td>\n",
       "      <td>1</td>\n",
       "      <td>0</td>\n",
       "      <td>6</td>\n",
       "      <td>1</td>\n",
       "      <td>29</td>\n",
       "      <td>14.227</td>\n",
       "      <td>5.000</td>\n",
       "      <td>3</td>\n",
       "      <td>0.020</td>\n",
       "      <td>0.000</td>\n",
       "      <td>0</td>\n",
       "    </tr>\n",
       "    <tr>\n",
       "      <th>1</th>\n",
       "      <td>0</td>\n",
       "      <td>1</td>\n",
       "      <td>0</td>\n",
       "      <td>0</td>\n",
       "      <td>1</td>\n",
       "      <td>12</td>\n",
       "      <td>1</td>\n",
       "      <td>31</td>\n",
       "      <td>113.203</td>\n",
       "      <td>12.000</td>\n",
       "      <td>7</td>\n",
       "      <td>1.923</td>\n",
       "      <td>1.910</td>\n",
       "      <td>0</td>\n",
       "    </tr>\n",
       "    <tr>\n",
       "      <th>2</th>\n",
       "      <td>0</td>\n",
       "      <td>1</td>\n",
       "      <td>1</td>\n",
       "      <td>0</td>\n",
       "      <td>1</td>\n",
       "      <td>1</td>\n",
       "      <td>0</td>\n",
       "      <td>28</td>\n",
       "      <td>129.448</td>\n",
       "      <td>1.000</td>\n",
       "      <td>2</td>\n",
       "      <td>1.859</td>\n",
       "      <td>1.737</td>\n",
       "      <td>0</td>\n",
       "    </tr>\n",
       "    <tr>\n",
       "      <th>3</th>\n",
       "      <td>0</td>\n",
       "      <td>1</td>\n",
       "      <td>1</td>\n",
       "      <td>1</td>\n",
       "      <td>1</td>\n",
       "      <td>12</td>\n",
       "      <td>1</td>\n",
       "      <td>33</td>\n",
       "      <td>62.670</td>\n",
       "      <td>12.000</td>\n",
       "      <td>2</td>\n",
       "      <td>3.206</td>\n",
       "      <td>3.357</td>\n",
       "      <td>0</td>\n",
       "    </tr>\n",
       "    <tr>\n",
       "      <th>4</th>\n",
       "      <td>1</td>\n",
       "      <td>1</td>\n",
       "      <td>1</td>\n",
       "      <td>1</td>\n",
       "      <td>1</td>\n",
       "      <td>1</td>\n",
       "      <td>0</td>\n",
       "      <td>26</td>\n",
       "      <td>198.362</td>\n",
       "      <td>1.000</td>\n",
       "      <td>3</td>\n",
       "      <td>1.114</td>\n",
       "      <td>1.120</td>\n",
       "      <td>0</td>\n",
       "    </tr>\n",
       "  </tbody>\n",
       "</table>\n",
       "</div>"
      ],
      "text/plain": [
       "   gender  Near_Location  Partner  Promo_friends  Phone  Contract_period  \\\n",
       "0       1              1        1              1      0                6   \n",
       "1       0              1        0              0      1               12   \n",
       "2       0              1        1              0      1                1   \n",
       "3       0              1        1              1      1               12   \n",
       "4       1              1        1              1      1                1   \n",
       "\n",
       "   Group_visits  Age  Avg_additional_charges_total  Month_to_end_contract  \\\n",
       "0             1   29                        14.227                  5.000   \n",
       "1             1   31                       113.203                 12.000   \n",
       "2             0   28                       129.448                  1.000   \n",
       "3             1   33                        62.670                 12.000   \n",
       "4             0   26                       198.362                  1.000   \n",
       "\n",
       "   Lifetime  Avg_class_frequency_total  Avg_class_frequency_current_month  \\\n",
       "0         3                      0.020                              0.000   \n",
       "1         7                      1.923                              1.910   \n",
       "2         2                      1.859                              1.737   \n",
       "3         2                      3.206                              3.357   \n",
       "4         3                      1.114                              1.120   \n",
       "\n",
       "   Churn  \n",
       "0      0  \n",
       "1      0  \n",
       "2      0  \n",
       "3      0  \n",
       "4      0  "
      ]
     },
     "metadata": {},
     "output_type": "display_data"
    },
    {
     "data": {
      "text/plain": [
       "4000"
      ]
     },
     "metadata": {},
     "output_type": "display_data"
    }
   ],
   "source": [
    "# Load the data files into a DataFrame\n",
    "\n",
    "try: \n",
    "    gym = pd.read_csv('gym_churn_us.csv')         \n",
    "    \n",
    "except:\n",
    "    gym = pd.read_csv('/datasets/gym_churn_us.csv')\n",
    "   \n",
    "\n",
    " \n",
    "display(gym.head(), len(gym))"
   ]
  },
  {
   "cell_type": "markdown",
   "metadata": {},
   "source": [
    "**gym data table:**\n",
    "\n",
    "- \t'gender' - gender of the user\n",
    "\n",
    "-\t'Near_Location' — whether the user lives or works in the neighborhood where the gym is located\n",
    "\n",
    "-\t'Partner' — whether the user is an employee of a partner company (the gym has partner companies whose employees get discounts; in those cases the gym stores information on customers' employers)\n",
    "\n",
    "-\tPromo_friends — whether the user originally signed up through a \"bring a friend\" offer (they used a friend's promo code when paying for their first membership)\n",
    "\n",
    "-\t'Phone' — whether the user provided their phone number\n",
    "\n",
    "- \t'Contract_period' — duration of the contract (1 month, 3 months, 6 months, or 1 year)\n",
    "\n",
    "-\t'Group_visits' — whether the user takes part in group sessions\n",
    "\n",
    "-   'Age' - the age of the user\n",
    "\n",
    "-\t'Avg_additional_charges_total' — the total amount of money spent on other gym services: cafe, athletic goods, cosmetics, massages, etc.\n",
    "\n",
    "- 'Month_to_end_contract' — the months remaining until the contract expires\n",
    "\n",
    "-\t'Lifetime' — the time (in months) since the customer first came to the gym\n",
    "\n",
    "-\t'Avg_class_frequency_total' — average frequency of visits per week over the customer's lifetime\n",
    "\n",
    "-\t'Avg_class_frequency_current_month' — average frequency of visits per week over the preceding month\n",
    "\n",
    "- \t'Churn' — the fact of churn for the month in question"
   ]
  },
  {
   "cell_type": "markdown",
   "metadata": {},
   "source": [
    "### Step 2. Exploratory data analysis (EDA)"
   ]
  },
  {
   "cell_type": "markdown",
   "metadata": {},
   "source": [
    "#### Look at the dataset"
   ]
  },
  {
   "cell_type": "code",
   "execution_count": 5,
   "metadata": {},
   "outputs": [
    {
     "data": {
      "text/html": [
       "<div>\n",
       "<style scoped>\n",
       "    .dataframe tbody tr th:only-of-type {\n",
       "        vertical-align: middle;\n",
       "    }\n",
       "\n",
       "    .dataframe tbody tr th {\n",
       "        vertical-align: top;\n",
       "    }\n",
       "\n",
       "    .dataframe thead th {\n",
       "        text-align: right;\n",
       "    }\n",
       "</style>\n",
       "<table border=\"1\" class=\"dataframe\">\n",
       "  <thead>\n",
       "    <tr style=\"text-align: right;\">\n",
       "      <th></th>\n",
       "      <th>gender</th>\n",
       "      <th>Near_Location</th>\n",
       "      <th>Partner</th>\n",
       "      <th>Promo_friends</th>\n",
       "      <th>Phone</th>\n",
       "      <th>Contract_period</th>\n",
       "      <th>Group_visits</th>\n",
       "      <th>Age</th>\n",
       "      <th>Avg_additional_charges_total</th>\n",
       "      <th>Month_to_end_contract</th>\n",
       "      <th>Lifetime</th>\n",
       "      <th>Avg_class_frequency_total</th>\n",
       "      <th>Avg_class_frequency_current_month</th>\n",
       "      <th>Churn</th>\n",
       "    </tr>\n",
       "  </thead>\n",
       "  <tbody>\n",
       "    <tr>\n",
       "      <th>0</th>\n",
       "      <td>1</td>\n",
       "      <td>1</td>\n",
       "      <td>1</td>\n",
       "      <td>1</td>\n",
       "      <td>0</td>\n",
       "      <td>6</td>\n",
       "      <td>1</td>\n",
       "      <td>29</td>\n",
       "      <td>14.227</td>\n",
       "      <td>5.000</td>\n",
       "      <td>3</td>\n",
       "      <td>0.020</td>\n",
       "      <td>0.000</td>\n",
       "      <td>0</td>\n",
       "    </tr>\n",
       "    <tr>\n",
       "      <th>1</th>\n",
       "      <td>0</td>\n",
       "      <td>1</td>\n",
       "      <td>0</td>\n",
       "      <td>0</td>\n",
       "      <td>1</td>\n",
       "      <td>12</td>\n",
       "      <td>1</td>\n",
       "      <td>31</td>\n",
       "      <td>113.203</td>\n",
       "      <td>12.000</td>\n",
       "      <td>7</td>\n",
       "      <td>1.923</td>\n",
       "      <td>1.910</td>\n",
       "      <td>0</td>\n",
       "    </tr>\n",
       "    <tr>\n",
       "      <th>2</th>\n",
       "      <td>0</td>\n",
       "      <td>1</td>\n",
       "      <td>1</td>\n",
       "      <td>0</td>\n",
       "      <td>1</td>\n",
       "      <td>1</td>\n",
       "      <td>0</td>\n",
       "      <td>28</td>\n",
       "      <td>129.448</td>\n",
       "      <td>1.000</td>\n",
       "      <td>2</td>\n",
       "      <td>1.859</td>\n",
       "      <td>1.737</td>\n",
       "      <td>0</td>\n",
       "    </tr>\n",
       "    <tr>\n",
       "      <th>3</th>\n",
       "      <td>0</td>\n",
       "      <td>1</td>\n",
       "      <td>1</td>\n",
       "      <td>1</td>\n",
       "      <td>1</td>\n",
       "      <td>12</td>\n",
       "      <td>1</td>\n",
       "      <td>33</td>\n",
       "      <td>62.670</td>\n",
       "      <td>12.000</td>\n",
       "      <td>2</td>\n",
       "      <td>3.206</td>\n",
       "      <td>3.357</td>\n",
       "      <td>0</td>\n",
       "    </tr>\n",
       "    <tr>\n",
       "      <th>4</th>\n",
       "      <td>1</td>\n",
       "      <td>1</td>\n",
       "      <td>1</td>\n",
       "      <td>1</td>\n",
       "      <td>1</td>\n",
       "      <td>1</td>\n",
       "      <td>0</td>\n",
       "      <td>26</td>\n",
       "      <td>198.362</td>\n",
       "      <td>1.000</td>\n",
       "      <td>3</td>\n",
       "      <td>1.114</td>\n",
       "      <td>1.120</td>\n",
       "      <td>0</td>\n",
       "    </tr>\n",
       "  </tbody>\n",
       "</table>\n",
       "</div>"
      ],
      "text/plain": [
       "   gender  Near_Location  Partner  Promo_friends  Phone  Contract_period  \\\n",
       "0       1              1        1              1      0                6   \n",
       "1       0              1        0              0      1               12   \n",
       "2       0              1        1              0      1                1   \n",
       "3       0              1        1              1      1               12   \n",
       "4       1              1        1              1      1                1   \n",
       "\n",
       "   Group_visits  Age  Avg_additional_charges_total  Month_to_end_contract  \\\n",
       "0             1   29                        14.227                  5.000   \n",
       "1             1   31                       113.203                 12.000   \n",
       "2             0   28                       129.448                  1.000   \n",
       "3             1   33                        62.670                 12.000   \n",
       "4             0   26                       198.362                  1.000   \n",
       "\n",
       "   Lifetime  Avg_class_frequency_total  Avg_class_frequency_current_month  \\\n",
       "0         3                      0.020                              0.000   \n",
       "1         7                      1.923                              1.910   \n",
       "2         2                      1.859                              1.737   \n",
       "3         2                      3.206                              3.357   \n",
       "4         3                      1.114                              1.120   \n",
       "\n",
       "   Churn  \n",
       "0      0  \n",
       "1      0  \n",
       "2      0  \n",
       "3      0  \n",
       "4      0  "
      ]
     },
     "execution_count": 5,
     "metadata": {},
     "output_type": "execute_result"
    }
   ],
   "source": [
    "gym.head()"
   ]
  },
  {
   "cell_type": "code",
   "execution_count": 6,
   "metadata": {},
   "outputs": [
    {
     "name": "stdout",
     "output_type": "stream",
     "text": [
      "<class 'pandas.core.frame.DataFrame'>\n",
      "RangeIndex: 4000 entries, 0 to 3999\n",
      "Data columns (total 14 columns):\n",
      " #   Column                             Non-Null Count  Dtype  \n",
      "---  ------                             --------------  -----  \n",
      " 0   gender                             4000 non-null   int64  \n",
      " 1   Near_Location                      4000 non-null   int64  \n",
      " 2   Partner                            4000 non-null   int64  \n",
      " 3   Promo_friends                      4000 non-null   int64  \n",
      " 4   Phone                              4000 non-null   int64  \n",
      " 5   Contract_period                    4000 non-null   int64  \n",
      " 6   Group_visits                       4000 non-null   int64  \n",
      " 7   Age                                4000 non-null   int64  \n",
      " 8   Avg_additional_charges_total       4000 non-null   float64\n",
      " 9   Month_to_end_contract              4000 non-null   float64\n",
      " 10  Lifetime                           4000 non-null   int64  \n",
      " 11  Avg_class_frequency_total          4000 non-null   float64\n",
      " 12  Avg_class_frequency_current_month  4000 non-null   float64\n",
      " 13  Churn                              4000 non-null   int64  \n",
      "dtypes: float64(4), int64(10)\n",
      "memory usage: 437.6 KB\n"
     ]
    }
   ],
   "source": [
    "gym.info()"
   ]
  },
  {
   "cell_type": "markdown",
   "metadata": {},
   "source": [
    "- No missing values"
   ]
  },
  {
   "cell_type": "code",
   "execution_count": 7,
   "metadata": {},
   "outputs": [
    {
     "data": {
      "text/html": [
       "<div>\n",
       "<style scoped>\n",
       "    .dataframe tbody tr th:only-of-type {\n",
       "        vertical-align: middle;\n",
       "    }\n",
       "\n",
       "    .dataframe tbody tr th {\n",
       "        vertical-align: top;\n",
       "    }\n",
       "\n",
       "    .dataframe thead th {\n",
       "        text-align: right;\n",
       "    }\n",
       "</style>\n",
       "<table border=\"1\" class=\"dataframe\">\n",
       "  <thead>\n",
       "    <tr style=\"text-align: right;\">\n",
       "      <th></th>\n",
       "      <th>gender</th>\n",
       "      <th>Near_Location</th>\n",
       "      <th>Partner</th>\n",
       "      <th>Promo_friends</th>\n",
       "      <th>Phone</th>\n",
       "      <th>Contract_period</th>\n",
       "      <th>Group_visits</th>\n",
       "      <th>Age</th>\n",
       "      <th>Avg_additional_charges_total</th>\n",
       "      <th>Month_to_end_contract</th>\n",
       "      <th>Lifetime</th>\n",
       "      <th>Avg_class_frequency_total</th>\n",
       "      <th>Avg_class_frequency_current_month</th>\n",
       "      <th>Churn</th>\n",
       "    </tr>\n",
       "  </thead>\n",
       "  <tbody>\n",
       "    <tr>\n",
       "      <th>count</th>\n",
       "      <td>4000.000</td>\n",
       "      <td>4000.000</td>\n",
       "      <td>4000.000</td>\n",
       "      <td>4000.000</td>\n",
       "      <td>4000.000</td>\n",
       "      <td>4000.000</td>\n",
       "      <td>4000.000</td>\n",
       "      <td>4000.000</td>\n",
       "      <td>4000.000</td>\n",
       "      <td>4000.000</td>\n",
       "      <td>4000.000</td>\n",
       "      <td>4000.000</td>\n",
       "      <td>4000.000</td>\n",
       "      <td>4000.000</td>\n",
       "    </tr>\n",
       "    <tr>\n",
       "      <th>mean</th>\n",
       "      <td>0.510</td>\n",
       "      <td>0.845</td>\n",
       "      <td>0.487</td>\n",
       "      <td>0.308</td>\n",
       "      <td>0.903</td>\n",
       "      <td>4.681</td>\n",
       "      <td>0.412</td>\n",
       "      <td>29.184</td>\n",
       "      <td>146.944</td>\n",
       "      <td>4.323</td>\n",
       "      <td>3.725</td>\n",
       "      <td>1.879</td>\n",
       "      <td>1.767</td>\n",
       "      <td>0.265</td>\n",
       "    </tr>\n",
       "    <tr>\n",
       "      <th>std</th>\n",
       "      <td>0.500</td>\n",
       "      <td>0.362</td>\n",
       "      <td>0.500</td>\n",
       "      <td>0.462</td>\n",
       "      <td>0.295</td>\n",
       "      <td>4.550</td>\n",
       "      <td>0.492</td>\n",
       "      <td>3.258</td>\n",
       "      <td>96.356</td>\n",
       "      <td>4.191</td>\n",
       "      <td>3.749</td>\n",
       "      <td>0.972</td>\n",
       "      <td>1.053</td>\n",
       "      <td>0.442</td>\n",
       "    </tr>\n",
       "    <tr>\n",
       "      <th>min</th>\n",
       "      <td>0.000</td>\n",
       "      <td>0.000</td>\n",
       "      <td>0.000</td>\n",
       "      <td>0.000</td>\n",
       "      <td>0.000</td>\n",
       "      <td>1.000</td>\n",
       "      <td>0.000</td>\n",
       "      <td>18.000</td>\n",
       "      <td>0.148</td>\n",
       "      <td>1.000</td>\n",
       "      <td>0.000</td>\n",
       "      <td>0.000</td>\n",
       "      <td>0.000</td>\n",
       "      <td>0.000</td>\n",
       "    </tr>\n",
       "    <tr>\n",
       "      <th>25%</th>\n",
       "      <td>0.000</td>\n",
       "      <td>1.000</td>\n",
       "      <td>0.000</td>\n",
       "      <td>0.000</td>\n",
       "      <td>1.000</td>\n",
       "      <td>1.000</td>\n",
       "      <td>0.000</td>\n",
       "      <td>27.000</td>\n",
       "      <td>68.869</td>\n",
       "      <td>1.000</td>\n",
       "      <td>1.000</td>\n",
       "      <td>1.181</td>\n",
       "      <td>0.963</td>\n",
       "      <td>0.000</td>\n",
       "    </tr>\n",
       "    <tr>\n",
       "      <th>50%</th>\n",
       "      <td>1.000</td>\n",
       "      <td>1.000</td>\n",
       "      <td>0.000</td>\n",
       "      <td>0.000</td>\n",
       "      <td>1.000</td>\n",
       "      <td>1.000</td>\n",
       "      <td>0.000</td>\n",
       "      <td>29.000</td>\n",
       "      <td>136.220</td>\n",
       "      <td>1.000</td>\n",
       "      <td>3.000</td>\n",
       "      <td>1.833</td>\n",
       "      <td>1.720</td>\n",
       "      <td>0.000</td>\n",
       "    </tr>\n",
       "    <tr>\n",
       "      <th>75%</th>\n",
       "      <td>1.000</td>\n",
       "      <td>1.000</td>\n",
       "      <td>1.000</td>\n",
       "      <td>1.000</td>\n",
       "      <td>1.000</td>\n",
       "      <td>6.000</td>\n",
       "      <td>1.000</td>\n",
       "      <td>31.000</td>\n",
       "      <td>210.950</td>\n",
       "      <td>6.000</td>\n",
       "      <td>5.000</td>\n",
       "      <td>2.536</td>\n",
       "      <td>2.510</td>\n",
       "      <td>1.000</td>\n",
       "    </tr>\n",
       "    <tr>\n",
       "      <th>max</th>\n",
       "      <td>1.000</td>\n",
       "      <td>1.000</td>\n",
       "      <td>1.000</td>\n",
       "      <td>1.000</td>\n",
       "      <td>1.000</td>\n",
       "      <td>12.000</td>\n",
       "      <td>1.000</td>\n",
       "      <td>41.000</td>\n",
       "      <td>552.591</td>\n",
       "      <td>12.000</td>\n",
       "      <td>31.000</td>\n",
       "      <td>6.024</td>\n",
       "      <td>6.147</td>\n",
       "      <td>1.000</td>\n",
       "    </tr>\n",
       "  </tbody>\n",
       "</table>\n",
       "</div>"
      ],
      "text/plain": [
       "        gender  Near_Location  Partner  Promo_friends    Phone  \\\n",
       "count 4000.000       4000.000 4000.000       4000.000 4000.000   \n",
       "mean     0.510          0.845    0.487          0.308    0.903   \n",
       "std      0.500          0.362    0.500          0.462    0.295   \n",
       "min      0.000          0.000    0.000          0.000    0.000   \n",
       "25%      0.000          1.000    0.000          0.000    1.000   \n",
       "50%      1.000          1.000    0.000          0.000    1.000   \n",
       "75%      1.000          1.000    1.000          1.000    1.000   \n",
       "max      1.000          1.000    1.000          1.000    1.000   \n",
       "\n",
       "       Contract_period  Group_visits      Age  Avg_additional_charges_total  \\\n",
       "count         4000.000      4000.000 4000.000                      4000.000   \n",
       "mean             4.681         0.412   29.184                       146.944   \n",
       "std              4.550         0.492    3.258                        96.356   \n",
       "min              1.000         0.000   18.000                         0.148   \n",
       "25%              1.000         0.000   27.000                        68.869   \n",
       "50%              1.000         0.000   29.000                       136.220   \n",
       "75%              6.000         1.000   31.000                       210.950   \n",
       "max             12.000         1.000   41.000                       552.591   \n",
       "\n",
       "       Month_to_end_contract  Lifetime  Avg_class_frequency_total  \\\n",
       "count               4000.000  4000.000                   4000.000   \n",
       "mean                   4.323     3.725                      1.879   \n",
       "std                    4.191     3.749                      0.972   \n",
       "min                    1.000     0.000                      0.000   \n",
       "25%                    1.000     1.000                      1.181   \n",
       "50%                    1.000     3.000                      1.833   \n",
       "75%                    6.000     5.000                      2.536   \n",
       "max                   12.000    31.000                      6.024   \n",
       "\n",
       "       Avg_class_frequency_current_month    Churn  \n",
       "count                           4000.000 4000.000  \n",
       "mean                               1.767    0.265  \n",
       "std                                1.053    0.442  \n",
       "min                                0.000    0.000  \n",
       "25%                                0.963    0.000  \n",
       "50%                                1.720    0.000  \n",
       "75%                                2.510    1.000  \n",
       "max                                6.147    1.000  "
      ]
     },
     "execution_count": 7,
     "metadata": {},
     "output_type": "execute_result"
    }
   ],
   "source": [
    "gym.describe()"
   ]
  },
  {
   "cell_type": "markdown",
   "metadata": {},
   "source": [
    "<div class=\"alert alert-success\">\n",
    "<b>Reviewer's comment</b>\n",
    "\n",
    "The data was loaded and inspected!\n",
    "\n",
    "</div>"
   ]
  },
  {
   "cell_type": "markdown",
   "metadata": {},
   "source": [
    "#### Look at the mean feature values in two groups: for those who left (churn) and for those who stayed"
   ]
  },
  {
   "cell_type": "code",
   "execution_count": 8,
   "metadata": {},
   "outputs": [
    {
     "data": {
      "text/html": [
       "<div>\n",
       "<style scoped>\n",
       "    .dataframe tbody tr th:only-of-type {\n",
       "        vertical-align: middle;\n",
       "    }\n",
       "\n",
       "    .dataframe tbody tr th {\n",
       "        vertical-align: top;\n",
       "    }\n",
       "\n",
       "    .dataframe thead th {\n",
       "        text-align: right;\n",
       "    }\n",
       "</style>\n",
       "<table border=\"1\" class=\"dataframe\">\n",
       "  <thead>\n",
       "    <tr style=\"text-align: right;\">\n",
       "      <th></th>\n",
       "      <th>gender</th>\n",
       "      <th>Near_Location</th>\n",
       "      <th>Partner</th>\n",
       "      <th>Promo_friends</th>\n",
       "      <th>Phone</th>\n",
       "      <th>Contract_period</th>\n",
       "      <th>Group_visits</th>\n",
       "      <th>Age</th>\n",
       "      <th>Avg_additional_charges_total</th>\n",
       "      <th>Month_to_end_contract</th>\n",
       "      <th>Lifetime</th>\n",
       "      <th>Avg_class_frequency_total</th>\n",
       "      <th>Avg_class_frequency_current_month</th>\n",
       "    </tr>\n",
       "    <tr>\n",
       "      <th>Churn</th>\n",
       "      <th></th>\n",
       "      <th></th>\n",
       "      <th></th>\n",
       "      <th></th>\n",
       "      <th></th>\n",
       "      <th></th>\n",
       "      <th></th>\n",
       "      <th></th>\n",
       "      <th></th>\n",
       "      <th></th>\n",
       "      <th></th>\n",
       "      <th></th>\n",
       "      <th></th>\n",
       "    </tr>\n",
       "  </thead>\n",
       "  <tbody>\n",
       "    <tr>\n",
       "      <th>0</th>\n",
       "      <td>0.510</td>\n",
       "      <td>0.873</td>\n",
       "      <td>0.534</td>\n",
       "      <td>0.354</td>\n",
       "      <td>0.904</td>\n",
       "      <td>5.747</td>\n",
       "      <td>0.464</td>\n",
       "      <td>29.977</td>\n",
       "      <td>158.446</td>\n",
       "      <td>5.283</td>\n",
       "      <td>4.712</td>\n",
       "      <td>2.025</td>\n",
       "      <td>2.028</td>\n",
       "    </tr>\n",
       "    <tr>\n",
       "      <th>1</th>\n",
       "      <td>0.511</td>\n",
       "      <td>0.768</td>\n",
       "      <td>0.355</td>\n",
       "      <td>0.184</td>\n",
       "      <td>0.903</td>\n",
       "      <td>1.729</td>\n",
       "      <td>0.269</td>\n",
       "      <td>26.990</td>\n",
       "      <td>115.083</td>\n",
       "      <td>1.663</td>\n",
       "      <td>0.991</td>\n",
       "      <td>1.475</td>\n",
       "      <td>1.045</td>\n",
       "    </tr>\n",
       "  </tbody>\n",
       "</table>\n",
       "</div>"
      ],
      "text/plain": [
       "       gender  Near_Location  Partner  Promo_friends  Phone  Contract_period  \\\n",
       "Churn                                                                          \n",
       "0       0.510          0.873    0.534          0.354  0.904            5.747   \n",
       "1       0.511          0.768    0.355          0.184  0.903            1.729   \n",
       "\n",
       "       Group_visits    Age  Avg_additional_charges_total  \\\n",
       "Churn                                                      \n",
       "0             0.464 29.977                       158.446   \n",
       "1             0.269 26.990                       115.083   \n",
       "\n",
       "       Month_to_end_contract  Lifetime  Avg_class_frequency_total  \\\n",
       "Churn                                                               \n",
       "0                      5.283     4.712                      2.025   \n",
       "1                      1.663     0.991                      1.475   \n",
       "\n",
       "       Avg_class_frequency_current_month  \n",
       "Churn                                     \n",
       "0                                  2.028  \n",
       "1                                  1.045  "
      ]
     },
     "execution_count": 8,
     "metadata": {},
     "output_type": "execute_result"
    }
   ],
   "source": [
    "gym.groupby('Churn').mean()"
   ]
  },
  {
   "cell_type": "code",
   "execution_count": 9,
   "metadata": {},
   "outputs": [
    {
     "data": {
      "text/html": [
       "<div>\n",
       "<style scoped>\n",
       "    .dataframe tbody tr th:only-of-type {\n",
       "        vertical-align: middle;\n",
       "    }\n",
       "\n",
       "    .dataframe tbody tr th {\n",
       "        vertical-align: top;\n",
       "    }\n",
       "\n",
       "    .dataframe thead th {\n",
       "        text-align: right;\n",
       "    }\n",
       "</style>\n",
       "<table border=\"1\" class=\"dataframe\">\n",
       "  <thead>\n",
       "    <tr style=\"text-align: right;\">\n",
       "      <th></th>\n",
       "      <th>gender</th>\n",
       "      <th>Near_Location</th>\n",
       "      <th>Partner</th>\n",
       "      <th>Promo_friends</th>\n",
       "      <th>Phone</th>\n",
       "      <th>Contract_period</th>\n",
       "      <th>Group_visits</th>\n",
       "      <th>Age</th>\n",
       "      <th>Avg_additional_charges_total</th>\n",
       "      <th>Month_to_end_contract</th>\n",
       "      <th>Lifetime</th>\n",
       "      <th>Avg_class_frequency_total</th>\n",
       "      <th>Avg_class_frequency_current_month</th>\n",
       "      <th>Churn</th>\n",
       "    </tr>\n",
       "  </thead>\n",
       "  <tbody>\n",
       "    <tr>\n",
       "      <th>7</th>\n",
       "      <td>0</td>\n",
       "      <td>1</td>\n",
       "      <td>0</td>\n",
       "      <td>0</td>\n",
       "      <td>1</td>\n",
       "      <td>1</td>\n",
       "      <td>0</td>\n",
       "      <td>30</td>\n",
       "      <td>217.787</td>\n",
       "      <td>1.000</td>\n",
       "      <td>0</td>\n",
       "      <td>1.214</td>\n",
       "      <td>1.049</td>\n",
       "      <td>1</td>\n",
       "    </tr>\n",
       "    <tr>\n",
       "      <th>11</th>\n",
       "      <td>1</td>\n",
       "      <td>1</td>\n",
       "      <td>1</td>\n",
       "      <td>0</td>\n",
       "      <td>1</td>\n",
       "      <td>1</td>\n",
       "      <td>0</td>\n",
       "      <td>27</td>\n",
       "      <td>266.784</td>\n",
       "      <td>1.000</td>\n",
       "      <td>2</td>\n",
       "      <td>2.349</td>\n",
       "      <td>1.584</td>\n",
       "      <td>1</td>\n",
       "    </tr>\n",
       "    <tr>\n",
       "      <th>13</th>\n",
       "      <td>1</td>\n",
       "      <td>1</td>\n",
       "      <td>0</td>\n",
       "      <td>0</td>\n",
       "      <td>1</td>\n",
       "      <td>1</td>\n",
       "      <td>1</td>\n",
       "      <td>27</td>\n",
       "      <td>152.749</td>\n",
       "      <td>1.000</td>\n",
       "      <td>1</td>\n",
       "      <td>0.000</td>\n",
       "      <td>0.000</td>\n",
       "      <td>1</td>\n",
       "    </tr>\n",
       "    <tr>\n",
       "      <th>21</th>\n",
       "      <td>0</td>\n",
       "      <td>0</td>\n",
       "      <td>0</td>\n",
       "      <td>0</td>\n",
       "      <td>1</td>\n",
       "      <td>1</td>\n",
       "      <td>0</td>\n",
       "      <td>30</td>\n",
       "      <td>153.199</td>\n",
       "      <td>1.000</td>\n",
       "      <td>3</td>\n",
       "      <td>0.636</td>\n",
       "      <td>0.000</td>\n",
       "      <td>1</td>\n",
       "    </tr>\n",
       "    <tr>\n",
       "      <th>23</th>\n",
       "      <td>1</td>\n",
       "      <td>1</td>\n",
       "      <td>0</td>\n",
       "      <td>0</td>\n",
       "      <td>1</td>\n",
       "      <td>1</td>\n",
       "      <td>1</td>\n",
       "      <td>32</td>\n",
       "      <td>276.080</td>\n",
       "      <td>1.000</td>\n",
       "      <td>1</td>\n",
       "      <td>1.421</td>\n",
       "      <td>1.043</td>\n",
       "      <td>1</td>\n",
       "    </tr>\n",
       "  </tbody>\n",
       "</table>\n",
       "</div>"
      ],
      "text/plain": [
       "    gender  Near_Location  Partner  Promo_friends  Phone  Contract_period  \\\n",
       "7        0              1        0              0      1                1   \n",
       "11       1              1        1              0      1                1   \n",
       "13       1              1        0              0      1                1   \n",
       "21       0              0        0              0      1                1   \n",
       "23       1              1        0              0      1                1   \n",
       "\n",
       "    Group_visits  Age  Avg_additional_charges_total  Month_to_end_contract  \\\n",
       "7              0   30                       217.787                  1.000   \n",
       "11             0   27                       266.784                  1.000   \n",
       "13             1   27                       152.749                  1.000   \n",
       "21             0   30                       153.199                  1.000   \n",
       "23             1   32                       276.080                  1.000   \n",
       "\n",
       "    Lifetime  Avg_class_frequency_total  Avg_class_frequency_current_month  \\\n",
       "7          0                      1.214                              1.049   \n",
       "11         2                      2.349                              1.584   \n",
       "13         1                      0.000                              0.000   \n",
       "21         3                      0.636                              0.000   \n",
       "23         1                      1.421                              1.043   \n",
       "\n",
       "    Churn  \n",
       "7       1  \n",
       "11      1  \n",
       "13      1  \n",
       "21      1  \n",
       "23      1  "
      ]
     },
     "execution_count": 9,
     "metadata": {},
     "output_type": "execute_result"
    }
   ],
   "source": [
    "gym.query('Churn == 1').head()"
   ]
  },
  {
   "cell_type": "markdown",
   "metadata": {},
   "source": [
    "- Among those who left the majority is not from partner companies.\n",
    "- They made shorter term contacts, they attended classes less frequently and they are younger then those who stayed.   "
   ]
  },
  {
   "cell_type": "markdown",
   "metadata": {},
   "source": [
    "#### Plot bar histograms and feature distributions for those who left (churn) and those who stayed"
   ]
  },
  {
   "cell_type": "code",
   "execution_count": 10,
   "metadata": {},
   "outputs": [
    {
     "data": {
      "text/plain": [
       "array([[<AxesSubplot:title={'center':'gender'}>,\n",
       "        <AxesSubplot:title={'center':'Near_Location'}>,\n",
       "        <AxesSubplot:title={'center':'Partner'}>,\n",
       "        <AxesSubplot:title={'center':'Promo_friends'}>],\n",
       "       [<AxesSubplot:title={'center':'Phone'}>,\n",
       "        <AxesSubplot:title={'center':'Contract_period'}>,\n",
       "        <AxesSubplot:title={'center':'Group_visits'}>,\n",
       "        <AxesSubplot:title={'center':'Age'}>],\n",
       "       [<AxesSubplot:title={'center':'Avg_additional_charges_total'}>,\n",
       "        <AxesSubplot:title={'center':'Month_to_end_contract'}>,\n",
       "        <AxesSubplot:title={'center':'Lifetime'}>,\n",
       "        <AxesSubplot:title={'center':'Avg_class_frequency_total'}>],\n",
       "       [<AxesSubplot:title={'center':'Avg_class_frequency_current_month'}>,\n",
       "        <AxesSubplot:>, <AxesSubplot:>, <AxesSubplot:>]], dtype=object)"
      ]
     },
     "execution_count": 10,
     "metadata": {},
     "output_type": "execute_result"
    },
    {
     "data": {
      "image/png": "[encoded data removed]",
      "text/plain": [
       "<Figure size 1080x720 with 16 Axes>"
      ]
     },
     "metadata": {
      "needs_background": "light"
     },
     "output_type": "display_data"
    },
    {
     "data": {
      "image/png": "[encoded data removed]",
      "text/plain": [
       "<Figure size 1080x720 with 16 Axes>"
      ]
     },
     "metadata": {
      "needs_background": "light"
     },
     "output_type": "display_data"
    }
   ],
   "source": [
    "left = gym.query('Churn == 1')\n",
    "left = left.drop('Churn', axis=1)\n",
    "stay = gym.query('Churn == 0')\n",
    "stay = stay.drop('Churn', axis=1)\n",
    "\n",
    "#Feature distributions for those who left (churn)\n",
    "#print('Feature distributions for those who left')\n",
    "left.hist(bins=30, figsize=(15, 10))\n",
    "\n",
    "#Feature distributions for those who stayed\n",
    "#print('Feature distributions for those who stayed')\n",
    "stay.hist(bins=30, figsize=(15, 10))\n",
    "\n",
    "\n",
    "#for column in gym:\n",
    "#    obj = gym[column]\n",
    "#    print('Colunm Name : ', column)\n",
    "#    print('Column Contents : ', obj.values)\n",
    "#    print(sns.histplot (obj.values ,kde=True))\n",
    "#for (columnName, columnData) in left.iteritems():\n",
    "#     print(' {:.2} distribution'.format(columnName))\n",
    "     #Feature distributions for those who left (churn)\n",
    "#     sns.histplot (left.columnName ,kde=True)\n",
    "     #Feature distributions for those who stayed\n",
    "#     sns.histplot (stay.columnName ,kde=True)"
   ]
  },
  {
   "cell_type": "code",
   "execution_count": 11,
   "metadata": {},
   "outputs": [
    {
     "name": "stdout",
     "output_type": "stream",
     "text": [
      "27.0 30.0\n"
     ]
    }
   ],
   "source": [
    "print(left.Age.median(), stay.Age.median())"
   ]
  },
  {
   "cell_type": "code",
   "execution_count": 12,
   "metadata": {},
   "outputs": [
    {
     "name": "stdout",
     "output_type": "stream",
     "text": [
      " gender distribution\n"
     ]
    },
    {
     "data": {
      "image/png": "[encoded data removed]",
      "text/plain": [
       "<Figure size 432x288 with 1 Axes>"
      ]
     },
     "metadata": {
      "needs_background": "light"
     },
     "output_type": "display_data"
    },
    {
     "name": "stdout",
     "output_type": "stream",
     "text": [
      " Near_Location distribution\n"
     ]
    },
    {
     "data": {
      "image/png": "[encoded data removed]",
      "text/plain": [
       "<Figure size 432x288 with 1 Axes>"
      ]
     },
     "metadata": {
      "needs_background": "light"
     },
     "output_type": "display_data"
    },
    {
     "name": "stdout",
     "output_type": "stream",
     "text": [
      " Partner distribution\n"
     ]
    },
    {
     "data": {
      "image/png": "[encoded data removed]",
      "text/plain": [
       "<Figure size 432x288 with 1 Axes>"
      ]
     },
     "metadata": {
      "needs_background": "light"
     },
     "output_type": "display_data"
    },
    {
     "name": "stdout",
     "output_type": "stream",
     "text": [
      " Promo_friends distribution\n"
     ]
    },
    {
     "data": {
      "image/png": "[encoded data removed]",
      "text/plain": [
       "<Figure size 432x288 with 1 Axes>"
      ]
     },
     "metadata": {
      "needs_background": "light"
     },
     "output_type": "display_data"
    },
    {
     "name": "stdout",
     "output_type": "stream",
     "text": [
      " Phone distribution\n"
     ]
    },
    {
     "data": {
      "image/png": "[encoded data removed]",
      "text/plain": [
       "<Figure size 432x288 with 1 Axes>"
      ]
     },
     "metadata": {
      "needs_background": "light"
     },
     "output_type": "display_data"
    },
    {
     "name": "stdout",
     "output_type": "stream",
     "text": [
      " Contract_period distribution\n"
     ]
    },
    {
     "data": {
      "image/png": "[encoded data removed]",
      "text/plain": [
       "<Figure size 432x288 with 1 Axes>"
      ]
     },
     "metadata": {
      "needs_background": "light"
     },
     "output_type": "display_data"
    },
    {
     "name": "stdout",
     "output_type": "stream",
     "text": [
      " Group_visits distribution\n"
     ]
    },
    {
     "data": {
      "image/png": "[encoded data removed]",
      "text/plain": [
       "<Figure size 432x288 with 1 Axes>"
      ]
     },
     "metadata": {
      "needs_background": "light"
     },
     "output_type": "display_data"
    },
    {
     "name": "stdout",
     "output_type": "stream",
     "text": [
      " Age distribution\n"
     ]
    },
    {
     "data": {
      "image/png": "[encoded data removed]",
      "text/plain": [
       "<Figure size 432x288 with 1 Axes>"
      ]
     },
     "metadata": {
      "needs_background": "light"
     },
     "output_type": "display_data"
    },
    {
     "name": "stdout",
     "output_type": "stream",
     "text": [
      " Avg_additional_charges_total distribution\n"
     ]
    },
    {
     "data": {
      "image/png": "[encoded data removed]",
      "text/plain": [
       "<Figure size 432x288 with 1 Axes>"
      ]
     },
     "metadata": {
      "needs_background": "light"
     },
     "output_type": "display_data"
    },
    {
     "name": "stdout",
     "output_type": "stream",
     "text": [
      " Month_to_end_contract distribution\n"
     ]
    },
    {
     "data": {
      "image/png": "[encoded data removed]",
      "text/plain": [
       "<Figure size 432x288 with 1 Axes>"
      ]
     },
     "metadata": {
      "needs_background": "light"
     },
     "output_type": "display_data"
    },
    {
     "name": "stdout",
     "output_type": "stream",
     "text": [
      " Lifetime distribution\n"
     ]
    },
    {
     "data": {
      "image/png": "[encoded data removed]",
      "text/plain": [
       "<Figure size 432x288 with 1 Axes>"
      ]
     },
     "metadata": {
      "needs_background": "light"
     },
     "output_type": "display_data"
    },
    {
     "name": "stdout",
     "output_type": "stream",
     "text": [
      " Avg_class_frequency_total distribution\n"
     ]
    },
    {
     "data": {
      "image/png": "[encoded data removed]",
      "text/plain": [
       "<Figure size 432x288 with 1 Axes>"
      ]
     },
     "metadata": {
      "needs_background": "light"
     },
     "output_type": "display_data"
    },
    {
     "name": "stdout",
     "output_type": "stream",
     "text": [
      " Avg_class_frequency_current_month distribution\n"
     ]
    },
    {
     "data": {
      "image/png": "[encoded data removed]",
      "text/plain": [
       "<Figure size 432x288 with 1 Axes>"
      ]
     },
     "metadata": {
      "needs_background": "light"
     },
     "output_type": "display_data"
    }
   ],
   "source": [
    "plt.style.use('seaborn-deep')\n",
    "for column in left:\n",
    "    print(' {:} distribution'.format(column))\n",
    "    plt.hist([left[column], stay[column] ], bins=30 , label=['left', 'stayed'])\n",
    "    plt.legend(loc='upper right')\n",
    "    plt.show()"
   ]
  },
  {
   "cell_type": "markdown",
   "metadata": {},
   "source": [
    "**Conclusions:**\n",
    "\n",
    "The diffarance in feature distributions for those who left and those who stayed show that:\n",
    "\n",
    "- Most of those who left have short contracts, while the distrebution of contract duration among those who stayed is more varied.\n",
    "\n",
    "- The median Age of those who stayed is a bit higher (they are a bit older)\n",
    "\n",
    "- The disrebution of Month_to_end_contract shows that most of those who left were nearing the end of their contract\n",
    "\n",
    "- The Liftime(or length of being a member of said gym) ditrebution showes that long time members leave more rarly\n",
    "\n",
    "- The total and average montly frequencies class visits distrebutions show that those who left attended less classes "
   ]
  },
  {
   "cell_type": "markdown",
   "metadata": {},
   "source": [
    "<div class=\"alert alert-success\">\n",
    "<b>Reviewer's comment</b>\n",
    "\n",
    "Great, you compared the two groups and made some interesting observations!\n",
    "\n",
    "</div>"
   ]
  },
  {
   "cell_type": "markdown",
   "metadata": {},
   "source": [
    "#### Build a correlation matrix and display it."
   ]
  },
  {
   "cell_type": "code",
   "execution_count": 13,
   "metadata": {},
   "outputs": [
    {
     "data": {
      "text/html": [
       "<div>\n",
       "<style scoped>\n",
       "    .dataframe tbody tr th:only-of-type {\n",
       "        vertical-align: middle;\n",
       "    }\n",
       "\n",
       "    .dataframe tbody tr th {\n",
       "        vertical-align: top;\n",
       "    }\n",
       "\n",
       "    .dataframe thead th {\n",
       "        text-align: right;\n",
       "    }\n",
       "</style>\n",
       "<table border=\"1\" class=\"dataframe\">\n",
       "  <thead>\n",
       "    <tr style=\"text-align: right;\">\n",
       "      <th></th>\n",
       "      <th>gender</th>\n",
       "      <th>Near_Location</th>\n",
       "      <th>Partner</th>\n",
       "      <th>Promo_friends</th>\n",
       "      <th>Phone</th>\n",
       "      <th>Contract_period</th>\n",
       "      <th>Group_visits</th>\n",
       "      <th>Age</th>\n",
       "      <th>Avg_additional_charges_total</th>\n",
       "      <th>Month_to_end_contract</th>\n",
       "      <th>Lifetime</th>\n",
       "      <th>Avg_class_frequency_total</th>\n",
       "      <th>Avg_class_frequency_current_month</th>\n",
       "      <th>Churn</th>\n",
       "    </tr>\n",
       "  </thead>\n",
       "  <tbody>\n",
       "    <tr>\n",
       "      <th>gender</th>\n",
       "      <td>1.000</td>\n",
       "      <td>0.007</td>\n",
       "      <td>-0.010</td>\n",
       "      <td>-0.005</td>\n",
       "      <td>-0.009</td>\n",
       "      <td>0.001</td>\n",
       "      <td>0.018</td>\n",
       "      <td>0.014</td>\n",
       "      <td>-0.009</td>\n",
       "      <td>-0.001</td>\n",
       "      <td>0.014</td>\n",
       "      <td>0.015</td>\n",
       "      <td>0.009</td>\n",
       "      <td>0.001</td>\n",
       "    </tr>\n",
       "    <tr>\n",
       "      <th>Near_Location</th>\n",
       "      <td>0.007</td>\n",
       "      <td>1.000</td>\n",
       "      <td>-0.005</td>\n",
       "      <td>0.211</td>\n",
       "      <td>-0.016</td>\n",
       "      <td>0.150</td>\n",
       "      <td>0.155</td>\n",
       "      <td>0.058</td>\n",
       "      <td>0.041</td>\n",
       "      <td>0.144</td>\n",
       "      <td>0.071</td>\n",
       "      <td>0.043</td>\n",
       "      <td>0.063</td>\n",
       "      <td>-0.128</td>\n",
       "    </tr>\n",
       "    <tr>\n",
       "      <th>Partner</th>\n",
       "      <td>-0.010</td>\n",
       "      <td>-0.005</td>\n",
       "      <td>1.000</td>\n",
       "      <td>0.452</td>\n",
       "      <td>0.010</td>\n",
       "      <td>0.306</td>\n",
       "      <td>0.023</td>\n",
       "      <td>0.047</td>\n",
       "      <td>0.023</td>\n",
       "      <td>0.295</td>\n",
       "      <td>0.061</td>\n",
       "      <td>0.025</td>\n",
       "      <td>0.046</td>\n",
       "      <td>-0.158</td>\n",
       "    </tr>\n",
       "    <tr>\n",
       "      <th>Promo_friends</th>\n",
       "      <td>-0.005</td>\n",
       "      <td>0.211</td>\n",
       "      <td>0.452</td>\n",
       "      <td>1.000</td>\n",
       "      <td>0.002</td>\n",
       "      <td>0.245</td>\n",
       "      <td>0.120</td>\n",
       "      <td>0.050</td>\n",
       "      <td>0.037</td>\n",
       "      <td>0.240</td>\n",
       "      <td>0.073</td>\n",
       "      <td>0.028</td>\n",
       "      <td>0.054</td>\n",
       "      <td>-0.162</td>\n",
       "    </tr>\n",
       "    <tr>\n",
       "      <th>Phone</th>\n",
       "      <td>-0.009</td>\n",
       "      <td>-0.016</td>\n",
       "      <td>0.010</td>\n",
       "      <td>0.002</td>\n",
       "      <td>1.000</td>\n",
       "      <td>-0.007</td>\n",
       "      <td>-0.010</td>\n",
       "      <td>-0.011</td>\n",
       "      <td>0.009</td>\n",
       "      <td>-0.011</td>\n",
       "      <td>-0.019</td>\n",
       "      <td>0.008</td>\n",
       "      <td>0.013</td>\n",
       "      <td>-0.001</td>\n",
       "    </tr>\n",
       "    <tr>\n",
       "      <th>Contract_period</th>\n",
       "      <td>0.001</td>\n",
       "      <td>0.150</td>\n",
       "      <td>0.306</td>\n",
       "      <td>0.245</td>\n",
       "      <td>-0.007</td>\n",
       "      <td>1.000</td>\n",
       "      <td>0.170</td>\n",
       "      <td>0.138</td>\n",
       "      <td>0.111</td>\n",
       "      <td>0.973</td>\n",
       "      <td>0.171</td>\n",
       "      <td>0.096</td>\n",
       "      <td>0.159</td>\n",
       "      <td>-0.390</td>\n",
       "    </tr>\n",
       "    <tr>\n",
       "      <th>Group_visits</th>\n",
       "      <td>0.018</td>\n",
       "      <td>0.155</td>\n",
       "      <td>0.023</td>\n",
       "      <td>0.120</td>\n",
       "      <td>-0.010</td>\n",
       "      <td>0.170</td>\n",
       "      <td>1.000</td>\n",
       "      <td>0.081</td>\n",
       "      <td>0.032</td>\n",
       "      <td>0.164</td>\n",
       "      <td>0.076</td>\n",
       "      <td>0.057</td>\n",
       "      <td>0.076</td>\n",
       "      <td>-0.175</td>\n",
       "    </tr>\n",
       "    <tr>\n",
       "      <th>Age</th>\n",
       "      <td>0.014</td>\n",
       "      <td>0.058</td>\n",
       "      <td>0.047</td>\n",
       "      <td>0.050</td>\n",
       "      <td>-0.011</td>\n",
       "      <td>0.138</td>\n",
       "      <td>0.081</td>\n",
       "      <td>1.000</td>\n",
       "      <td>0.080</td>\n",
       "      <td>0.135</td>\n",
       "      <td>0.165</td>\n",
       "      <td>0.120</td>\n",
       "      <td>0.183</td>\n",
       "      <td>-0.405</td>\n",
       "    </tr>\n",
       "    <tr>\n",
       "      <th>Avg_additional_charges_total</th>\n",
       "      <td>-0.009</td>\n",
       "      <td>0.041</td>\n",
       "      <td>0.023</td>\n",
       "      <td>0.037</td>\n",
       "      <td>0.009</td>\n",
       "      <td>0.111</td>\n",
       "      <td>0.032</td>\n",
       "      <td>0.080</td>\n",
       "      <td>1.000</td>\n",
       "      <td>0.114</td>\n",
       "      <td>0.079</td>\n",
       "      <td>0.044</td>\n",
       "      <td>0.080</td>\n",
       "      <td>-0.199</td>\n",
       "    </tr>\n",
       "    <tr>\n",
       "      <th>Month_to_end_contract</th>\n",
       "      <td>-0.001</td>\n",
       "      <td>0.144</td>\n",
       "      <td>0.295</td>\n",
       "      <td>0.240</td>\n",
       "      <td>-0.011</td>\n",
       "      <td>0.973</td>\n",
       "      <td>0.164</td>\n",
       "      <td>0.135</td>\n",
       "      <td>0.114</td>\n",
       "      <td>1.000</td>\n",
       "      <td>0.161</td>\n",
       "      <td>0.085</td>\n",
       "      <td>0.148</td>\n",
       "      <td>-0.381</td>\n",
       "    </tr>\n",
       "    <tr>\n",
       "      <th>Lifetime</th>\n",
       "      <td>0.014</td>\n",
       "      <td>0.071</td>\n",
       "      <td>0.061</td>\n",
       "      <td>0.073</td>\n",
       "      <td>-0.019</td>\n",
       "      <td>0.171</td>\n",
       "      <td>0.076</td>\n",
       "      <td>0.165</td>\n",
       "      <td>0.079</td>\n",
       "      <td>0.161</td>\n",
       "      <td>1.000</td>\n",
       "      <td>0.112</td>\n",
       "      <td>0.182</td>\n",
       "      <td>-0.438</td>\n",
       "    </tr>\n",
       "    <tr>\n",
       "      <th>Avg_class_frequency_total</th>\n",
       "      <td>0.015</td>\n",
       "      <td>0.043</td>\n",
       "      <td>0.025</td>\n",
       "      <td>0.028</td>\n",
       "      <td>0.008</td>\n",
       "      <td>0.096</td>\n",
       "      <td>0.057</td>\n",
       "      <td>0.120</td>\n",
       "      <td>0.044</td>\n",
       "      <td>0.085</td>\n",
       "      <td>0.112</td>\n",
       "      <td>1.000</td>\n",
       "      <td>0.953</td>\n",
       "      <td>-0.250</td>\n",
       "    </tr>\n",
       "    <tr>\n",
       "      <th>Avg_class_frequency_current_month</th>\n",
       "      <td>0.009</td>\n",
       "      <td>0.063</td>\n",
       "      <td>0.046</td>\n",
       "      <td>0.054</td>\n",
       "      <td>0.013</td>\n",
       "      <td>0.159</td>\n",
       "      <td>0.076</td>\n",
       "      <td>0.183</td>\n",
       "      <td>0.080</td>\n",
       "      <td>0.148</td>\n",
       "      <td>0.182</td>\n",
       "      <td>0.953</td>\n",
       "      <td>1.000</td>\n",
       "      <td>-0.412</td>\n",
       "    </tr>\n",
       "    <tr>\n",
       "      <th>Churn</th>\n",
       "      <td>0.001</td>\n",
       "      <td>-0.128</td>\n",
       "      <td>-0.158</td>\n",
       "      <td>-0.162</td>\n",
       "      <td>-0.001</td>\n",
       "      <td>-0.390</td>\n",
       "      <td>-0.175</td>\n",
       "      <td>-0.405</td>\n",
       "      <td>-0.199</td>\n",
       "      <td>-0.381</td>\n",
       "      <td>-0.438</td>\n",
       "      <td>-0.250</td>\n",
       "      <td>-0.412</td>\n",
       "      <td>1.000</td>\n",
       "    </tr>\n",
       "  </tbody>\n",
       "</table>\n",
       "</div>"
      ],
      "text/plain": [
       "                                   gender  Near_Location  Partner  \\\n",
       "gender                              1.000          0.007   -0.010   \n",
       "Near_Location                       0.007          1.000   -0.005   \n",
       "Partner                            -0.010         -0.005    1.000   \n",
       "Promo_friends                      -0.005          0.211    0.452   \n",
       "Phone                              -0.009         -0.016    0.010   \n",
       "Contract_period                     0.001          0.150    0.306   \n",
       "Group_visits                        0.018          0.155    0.023   \n",
       "Age                                 0.014          0.058    0.047   \n",
       "Avg_additional_charges_total       -0.009          0.041    0.023   \n",
       "Month_to_end_contract              -0.001          0.144    0.295   \n",
       "Lifetime                            0.014          0.071    0.061   \n",
       "Avg_class_frequency_total           0.015          0.043    0.025   \n",
       "Avg_class_frequency_current_month   0.009          0.063    0.046   \n",
       "Churn                               0.001         -0.128   -0.158   \n",
       "\n",
       "                                   Promo_friends  Phone  Contract_period  \\\n",
       "gender                                    -0.005 -0.009            0.001   \n",
       "Near_Location                              0.211 -0.016            0.150   \n",
       "Partner                                    0.452  0.010            0.306   \n",
       "Promo_friends                              1.000  0.002            0.245   \n",
       "Phone                                      0.002  1.000           -0.007   \n",
       "Contract_period                            0.245 -0.007            1.000   \n",
       "Group_visits                               0.120 -0.010            0.170   \n",
       "Age                                        0.050 -0.011            0.138   \n",
       "Avg_additional_charges_total               0.037  0.009            0.111   \n",
       "Month_to_end_contract                      0.240 -0.011            0.973   \n",
       "Lifetime                                   0.073 -0.019            0.171   \n",
       "Avg_class_frequency_total                  0.028  0.008            0.096   \n",
       "Avg_class_frequency_current_month          0.054  0.013            0.159   \n",
       "Churn                                     -0.162 -0.001           -0.390   \n",
       "\n",
       "                                   Group_visits    Age  \\\n",
       "gender                                    0.018  0.014   \n",
       "Near_Location                             0.155  0.058   \n",
       "Partner                                   0.023  0.047   \n",
       "Promo_friends                             0.120  0.050   \n",
       "Phone                                    -0.010 -0.011   \n",
       "Contract_period                           0.170  0.138   \n",
       "Group_visits                              1.000  0.081   \n",
       "Age                                       0.081  1.000   \n",
       "Avg_additional_charges_total              0.032  0.080   \n",
       "Month_to_end_contract                     0.164  0.135   \n",
       "Lifetime                                  0.076  0.165   \n",
       "Avg_class_frequency_total                 0.057  0.120   \n",
       "Avg_class_frequency_current_month         0.076  0.183   \n",
       "Churn                                    -0.175 -0.405   \n",
       "\n",
       "                                   Avg_additional_charges_total  \\\n",
       "gender                                                   -0.009   \n",
       "Near_Location                                             0.041   \n",
       "Partner                                                   0.023   \n",
       "Promo_friends                                             0.037   \n",
       "Phone                                                     0.009   \n",
       "Contract_period                                           0.111   \n",
       "Group_visits                                              0.032   \n",
       "Age                                                       0.080   \n",
       "Avg_additional_charges_total                              1.000   \n",
       "Month_to_end_contract                                     0.114   \n",
       "Lifetime                                                  0.079   \n",
       "Avg_class_frequency_total                                 0.044   \n",
       "Avg_class_frequency_current_month                         0.080   \n",
       "Churn                                                    -0.199   \n",
       "\n",
       "                                   Month_to_end_contract  Lifetime  \\\n",
       "gender                                            -0.001     0.014   \n",
       "Near_Location                                      0.144     0.071   \n",
       "Partner                                            0.295     0.061   \n",
       "Promo_friends                                      0.240     0.073   \n",
       "Phone                                             -0.011    -0.019   \n",
       "Contract_period                                    0.973     0.171   \n",
       "Group_visits                                       0.164     0.076   \n",
       "Age                                                0.135     0.165   \n",
       "Avg_additional_charges_total                       0.114     0.079   \n",
       "Month_to_end_contract                              1.000     0.161   \n",
       "Lifetime                                           0.161     1.000   \n",
       "Avg_class_frequency_total                          0.085     0.112   \n",
       "Avg_class_frequency_current_month                  0.148     0.182   \n",
       "Churn                                             -0.381    -0.438   \n",
       "\n",
       "                                   Avg_class_frequency_total  \\\n",
       "gender                                                 0.015   \n",
       "Near_Location                                          0.043   \n",
       "Partner                                                0.025   \n",
       "Promo_friends                                          0.028   \n",
       "Phone                                                  0.008   \n",
       "Contract_period                                        0.096   \n",
       "Group_visits                                           0.057   \n",
       "Age                                                    0.120   \n",
       "Avg_additional_charges_total                           0.044   \n",
       "Month_to_end_contract                                  0.085   \n",
       "Lifetime                                               0.112   \n",
       "Avg_class_frequency_total                              1.000   \n",
       "Avg_class_frequency_current_month                      0.953   \n",
       "Churn                                                 -0.250   \n",
       "\n",
       "                                   Avg_class_frequency_current_month  Churn  \n",
       "gender                                                         0.009  0.001  \n",
       "Near_Location                                                  0.063 -0.128  \n",
       "Partner                                                        0.046 -0.158  \n",
       "Promo_friends                                                  0.054 -0.162  \n",
       "Phone                                                          0.013 -0.001  \n",
       "Contract_period                                                0.159 -0.390  \n",
       "Group_visits                                                   0.076 -0.175  \n",
       "Age                                                            0.183 -0.405  \n",
       "Avg_additional_charges_total                                   0.080 -0.199  \n",
       "Month_to_end_contract                                          0.148 -0.381  \n",
       "Lifetime                                                       0.182 -0.438  \n",
       "Avg_class_frequency_total                                      0.953 -0.250  \n",
       "Avg_class_frequency_current_month                              1.000 -0.412  \n",
       "Churn                                                         -0.412  1.000  "
      ]
     },
     "execution_count": 13,
     "metadata": {},
     "output_type": "execute_result"
    }
   ],
   "source": [
    "corr_m = gym.corr()\n",
    "corr_m"
   ]
  },
  {
   "cell_type": "code",
   "execution_count": 14,
   "metadata": {},
   "outputs": [
    {
     "data": {
      "text/plain": [
       "<AxesSubplot:>"
      ]
     },
     "execution_count": 14,
     "metadata": {},
     "output_type": "execute_result"
    },
    {
     "data": {
      "image/png": "[encoded data removed]",
      "text/plain": [
       "<Figure size 1080x1080 with 2 Axes>"
      ]
     },
     "metadata": {
      "needs_background": "light"
     },
     "output_type": "display_data"
    }
   ],
   "source": [
    "plt.figure(figsize = (15,15))\n",
    "sns.heatmap(corr_m, annot=True, square = True, fmt='.2%', linewidths=1, linecolor='grey')"
   ]
  },
  {
   "cell_type": "markdown",
   "metadata": {},
   "source": [
    "**Conclusions:**\n",
    "\n",
    "Churn rate has nagative correlation with:\n",
    "\n",
    "- Monthly frequency of class visits, users with less visits, are more likely to leave\n",
    "- Liftime(or length of being a member of said gym), long time members leave more rarly\n",
    "- Contract period, the shorter the contract, the higher probability of leave\n",
    "- Age, the older users get the more they like stability and the less likely they are to leave\n",
    "- Months remaining until the contract expires, closer to the expiration date of the contract means more likely to leave.\n",
    "\n",
    "For further analysis (avoiding that collinearity thing):\n",
    "\n",
    "- 'Avg_class_frequency_total' and 'Avg_class_frequency_current_month', have too high correlation, might mess up the results.\n",
    "- 'Contract_period' and 'Month_to_end_contract', also have too high correlation.\n",
    "\n",
    "General:\n",
    "- 'Partner' and 'Promo_friends' have positive correlation, which makes sense as people from partner companies are likely to recomend to co-workers to use a gym they have discounts in."
   ]
  },
  {
   "cell_type": "markdown",
   "metadata": {},
   "source": [
    "<div class=\"alert alert-success\">\n",
    "<b>Reviewer's comment</b>\n",
    "\n",
    "Correlation analysis looks good!\n",
    "\n",
    "</div>"
   ]
  },
  {
   "cell_type": "markdown",
   "metadata": {},
   "source": [
    "#### Step 2. Conclusions:\n",
    "\n",
    "- Users with less class visits, are more likely to leave.\n",
    "\n",
    "- Long time users leave more rarly\n",
    "\n",
    "- Most of those who left were nearing the end of their contract\n",
    "\n",
    "- The median Age of those who stayed is a bit higher (they are a bit older), older users are less likely to leave\n",
    "\n",
    "- Most of those who left had short term contracts"
   ]
  },
  {
   "cell_type": "markdown",
   "metadata": {},
   "source": [
    "<div class=\"alert alert-success\">\n",
    "<b>Reviewer's comment</b>\n",
    "\n",
    "Very well!\n",
    "\n",
    "</div>"
   ]
  },
  {
   "cell_type": "markdown",
   "metadata": {},
   "source": [
    "### Step 3. Build a model to predict user churn"
   ]
  },
  {
   "cell_type": "code",
   "execution_count": 15,
   "metadata": {},
   "outputs": [],
   "source": [
    "# divide the data into features (the X matrix) and a target variable (y)\n",
    "#X = gym.drop('Churn', axis = 1)\n",
    "X = gym.drop(['Churn', 'Avg_class_frequency_total', 'Month_to_end_contract'], axis=1)\n",
    "y = gym['Churn']\n",
    "\n",
    "# divide the data into train and test\n",
    "X_train, X_test, y_train, y_test = train_test_split(X, y, test_size=0.2, random_state=0)"
   ]
  },
  {
   "cell_type": "markdown",
   "metadata": {},
   "source": [
    "<div class=\"alert alert-success\">\n",
    "<b>Reviewer's comment</b>\n",
    "\n",
    "The data was split into train and test\n",
    "\n",
    "</div>"
   ]
  },
  {
   "cell_type": "code",
   "execution_count": 16,
   "metadata": {},
   "outputs": [],
   "source": [
    "# define the function that will output our metrics\n",
    "def print_all_metrics(y_true, y_pred, y_proba, title = 'Classification metrics'):\n",
    "    print(title)\n",
    "    print('\\tAccuracy: {:.2f}'.format(accuracy_score(y_true, y_pred)))\n",
    "    print('\\tPrecision: {:.2f}'.format(precision_score(y_true, y_pred)))\n",
    "    print('\\tRecall: {:.2f}'.format(recall_score(y_true, y_pred)))\n",
    "    print('\\tF1: {:.2f}'.format(f1_score(y_true, y_pred)))\n",
    "    print('\\tROC_AUC: {:.2f}'.format(roc_auc_score(y_true, y_proba)))"
   ]
  },
  {
   "cell_type": "code",
   "execution_count": 17,
   "metadata": {},
   "outputs": [
    {
     "name": "stdout",
     "output_type": "stream",
     "text": [
      "Metrics for logistic regression:\n",
      "\tAccuracy: 0.90\n",
      "\tPrecision: 0.79\n",
      "\tRecall: 0.82\n",
      "\tF1: 0.81\n",
      "\tROC_AUC: 0.96\n"
     ]
    }
   ],
   "source": [
    "# train StandardScaler on the train set\n",
    "scaler = StandardScaler()\n",
    "scaler.fit(X_train)\n",
    "\n",
    "# transform train and test sets\n",
    "X_train_st = scaler.transform(X_train)\n",
    "X_test_st = scaler.transform(X_test)\n",
    "\n",
    "# define the algorithm for the logistic regression model\n",
    "lr_model = LogisticRegression(random_state=0)\n",
    "# train the model\n",
    "lr_model.fit(X_train_st, y_train)\n",
    "# use the trained model to make predictions\n",
    "lr_predictions = lr_model.predict(X_test_st)\n",
    "lr_probabilities = lr_model.predict_proba(X_test_st)[:,1]\n",
    "# print all metrics\n",
    "print_all_metrics(y_test, lr_predictions, lr_probabilities , title='Metrics for logistic regression:')"
   ]
  },
  {
   "cell_type": "code",
   "execution_count": 18,
   "metadata": {},
   "outputs": [
    {
     "name": "stdout",
     "output_type": "stream",
     "text": [
      "Metrics for random forest:\n",
      "\tAccuracy: 0.90\n",
      "\tPrecision: 0.81\n",
      "\tRecall: 0.75\n",
      "\tF1: 0.78\n",
      "\tROC_AUC: 0.95\n"
     ]
    }
   ],
   "source": [
    "# define the algorithm for the new random forest model\n",
    "rf_model = RandomForestClassifier(n_estimators = 100, random_state = 0) # write your code here\n",
    "# train the random forest model\n",
    "rf_model.fit(X_train, y_train)\n",
    "# use the trained model to make predictions\n",
    "rf_predictions = rf_model.predict(X_test)# write your code here\n",
    "rf_probabilities = rf_model.predict_proba(X_test)[:,1]# write your code here\n",
    "# print all metrics\n",
    "print_all_metrics(y_test, rf_predictions, rf_probabilities, title = 'Metrics for random forest:')"
   ]
  },
  {
   "cell_type": "markdown",
   "metadata": {},
   "source": [
    "<div class=\"alert alert-success\">\n",
    "<b>Reviewer's comment</b>\n",
    "\n",
    "The models were trained and evaluated correctly\n",
    "\n",
    "</div>"
   ]
  },
  {
   "cell_type": "markdown",
   "metadata": {},
   "source": [
    "**Which model gave better results?**\n",
    "\n",
    "Metrics for logistic regression, are better (though not by much) .\n",
    "\n",
    "The F-1 Score that is a measure of a test's accuracy, indicates that clealy.   "
   ]
  },
  {
   "cell_type": "markdown",
   "metadata": {},
   "source": [
    "<div class=\"alert alert-success\">\n",
    "<b>Reviewer's comment</b>\n",
    "\n",
    "Right, random forest has slightly better precision, but logistic regression has a better recall, which is a more interesting metric for us in this case (roughly it measures how many of the customers who are going to leave our model will find), and as you noted the F1 score (which is the harmonic mean of precision and recall) is better for logistic regression as well.\n",
    "\n",
    "</div>"
   ]
  },
  {
   "cell_type": "markdown",
   "metadata": {},
   "source": [
    "### Step 4. Create user clusters"
   ]
  },
  {
   "cell_type": "code",
   "execution_count": 81,
   "metadata": {},
   "outputs": [],
   "source": [
    "# obligatory standardization of data before passing it to the algorithm\n",
    "sc = StandardScaler()\n",
    "x_sc = sc.fit_transform(X)\n",
    "linked = linkage(x_sc, method = 'ward') "
   ]
  },
  {
   "cell_type": "markdown",
   "metadata": {},
   "source": [
    "#### build a matrix of distances based on the standardized feature matrix and plot a dendrogram."
   ]
  },
  {
   "cell_type": "code",
   "execution_count": 25,
   "metadata": {},
   "outputs": [
    {
     "data": {
      "image/png": "[encoded data removed]",
      "text/plain": [
       "<Figure size 1080x720 with 1 Axes>"
      ]
     },
     "metadata": {
      "needs_background": "light"
     },
     "output_type": "display_data"
    }
   ],
   "source": [
    "plt.figure(figsize=(15, 10))  \n",
    "dendrogram(linked, orientation='top')\n",
    "plt.title('Hierarchical clustering for GYM')\n",
    "plt.show() "
   ]
  },
  {
   "cell_type": "markdown",
   "metadata": {},
   "source": [
    "**Conclusions:**\n",
    "\n",
    "The dendogram showed that optimal number of clusters is 4, but we were told to use 5. The chart gives 5 only if 'Avg_class_frequency_total' and  'Month_to_end_contract', but they need to be droped due to that collinearity thing."
   ]
  },
  {
   "cell_type": "markdown",
   "metadata": {},
   "source": [
    "<div class=\"alert alert-warning\">\n",
    "<b>Reviewer's comment</b>\n",
    "\n",
    "k-means is not really affected by multicollinearity, that's more of a problem for linear models, like linear regression\n",
    "\n",
    "</div>"
   ]
  },
  {
   "cell_type": "markdown",
   "metadata": {},
   "source": [
    "#### Train the clustering model with the K-means algorithm and predict customer clusters. "
   ]
  },
  {
   "cell_type": "code",
   "execution_count": 28,
   "metadata": {},
   "outputs": [
    {
     "name": "stdout",
     "output_type": "stream",
     "text": [
      "            gender  Near_Location  Partner  Promo_friends  Phone  \\\n",
      "cluster_km                                                         \n",
      "0            0.494          0.996    0.959          0.789  1.000   \n",
      "1            0.499          0.000    0.490          0.078  1.000   \n",
      "2            0.560          0.999    0.144          0.070  1.000   \n",
      "3            0.523          0.863    0.472          0.306  0.000   \n",
      "4            0.483          1.000    0.277          0.119  1.000   \n",
      "\n",
      "            Contract_period  Group_visits    Age  \\\n",
      "cluster_km                                         \n",
      "0                     8.211         0.519 29.736   \n",
      "1                     3.043         0.237 28.711   \n",
      "2                     4.176         0.549 30.770   \n",
      "3                     4.777         0.427 29.298   \n",
      "4                     2.050         0.257 27.304   \n",
      "\n",
      "            Avg_additional_charges_total  Month_to_end_contract  Lifetime  \\\n",
      "cluster_km                                                                  \n",
      "0                                156.558                  7.448     4.333   \n",
      "1                                136.793                  2.863     3.025   \n",
      "2                                174.515                  3.877     5.454   \n",
      "3                                144.208                  4.466     3.940   \n",
      "4                                117.138                  1.974     1.735   \n",
      "\n",
      "            Avg_class_frequency_total  Avg_class_frequency_current_month  \\\n",
      "cluster_km                                                                 \n",
      "0                               1.995                              1.969   \n",
      "1                               1.769                              1.603   \n",
      "2                               2.364                              2.362   \n",
      "3                               1.854                              1.724   \n",
      "4                               1.367                              1.093   \n",
      "\n",
      "            Churn  \n",
      "cluster_km         \n",
      "0           0.075  \n",
      "1           0.401  \n",
      "2           0.034  \n",
      "3           0.267  \n",
      "4           0.618  \n"
     ]
    }
   ],
   "source": [
    "# define the k_means model with 5 clusters (The number of clusters be n=5, so that it'll be easier to compare results with those of other students)\n",
    "km = KMeans(n_clusters = 5)\n",
    "\n",
    "# predict the clusters for observations (the algorithm assigns them a number from 0 to 2)\n",
    "labels = km.fit_predict(x_sc)\n",
    "\n",
    "# store cluster labels in the field of our dataset\n",
    "gym['cluster_km'] = labels\n",
    "#print(gym.cluster_km.head())\n",
    "\n",
    "#gym.groupby('cluster_km').mean()\n",
    "print(gym.groupby('cluster_km').mean())"
   ]
  },
  {
   "cell_type": "markdown",
   "metadata": {},
   "source": [
    "<div class=\"alert alert-warning\">\n",
    "<b>Reviewer's comment</b>\n",
    "\n",
    "It's a good idea to set the random state when using KMeans for reproducibility. Otherwise clusters can end up being slightly different every time we run the code due to random initialization.\n",
    "\n",
    "</div>"
   ]
  },
  {
   "cell_type": "markdown",
   "metadata": {},
   "source": [
    "#### Look at the mean feature values for clusters."
   ]
  },
  {
   "cell_type": "markdown",
   "metadata": {},
   "source": [
    "**Conclusions:**\n",
    "\n",
    "- The first and fourth clusters are the ones with the highest churn rates \n",
    "\n",
    "- The zero and especialy secound clusters have very low churn rates.\n",
    "\n",
    "- The zero and especialy secound have higher 'Avg_class_frequency_total', 'Avg_class_frequency_current_month', 'Avg_additional_charges_total', 'Age', 'Group_visits' and 'Lifetime', then other clusters.\n",
    "\n",
    "- The first and fourth clusters have lower 'Avg_class_frequency_total', 'Avg_class_frequency_current_month', 'Avg_additional_charges_total', 'Age', 'Group_visits' and 'Lifetime', then other clusters. The same features that are high in zero and secound cluster.\n",
    "\n",
    "- All other features are varied between clusters, for example zero cluster has high amount of users from partner companies, and secound cluster has the lowest amount of users from partner companies. While both clusters has low churn rates. \n",
    "\n",
    "- The defining feature of cluster 3 is that it concentrated all users that provided no phone number."
   ]
  },
  {
   "cell_type": "markdown",
   "metadata": {},
   "source": [
    "#### Plot distributions of features for the clusters."
   ]
  },
  {
   "cell_type": "code",
   "execution_count": 44,
   "metadata": {},
   "outputs": [],
   "source": [
    "#Categorical values: gender, Near_Location, Partner, Promo_friends, Phone, Group_visits.\n",
    "#Numerial values: Contract_period, Age, Avg_additional_charges_total, Month_to_end_contract, Lifetime, Avg_class_frequency_total, Avg_class_frequency_current_month\n",
    "\n",
    "num_var = gym[['Contract_period', 'Age', 'Avg_additional_charges_total', 'Month_to_end_contract', 'Lifetime', 'Avg_class_frequency_total', 'Avg_class_frequency_current_month', 'cluster_km']]\n",
    "cat_var = gym[['gender', 'Near_Location', 'Partner', 'Promo_friends', 'Phone', 'Group_visits', 'Churn', 'cluster_km']]\n"
   ]
  },
  {
   "cell_type": "code",
   "execution_count": 66,
   "metadata": {},
   "outputs": [
    {
     "name": "stdout",
     "output_type": "stream",
     "text": [
      "Numerical Featurs: \n",
      " Contract_period distribution\n"
     ]
    },
    {
     "data": {
      "image/png": "[encoded data removed]",
      "text/plain": [
       "<Figure size 1224x720 with 1 Axes>"
      ]
     },
     "metadata": {
      "needs_background": "light"
     },
     "output_type": "display_data"
    },
    {
     "name": "stdout",
     "output_type": "stream",
     "text": [
      " Age distribution\n"
     ]
    },
    {
     "data": {
      "image/png": "[encoded data removed]",
      "text/plain": [
       "<Figure size 1224x720 with 1 Axes>"
      ]
     },
     "metadata": {
      "needs_background": "light"
     },
     "output_type": "display_data"
    },
    {
     "name": "stdout",
     "output_type": "stream",
     "text": [
      " Avg_additional_charges_total distribution\n"
     ]
    },
    {
     "data": {
      "image/png": "[encoded data removed]",
      "text/plain": [
       "<Figure size 1224x720 with 1 Axes>"
      ]
     },
     "metadata": {
      "needs_background": "light"
     },
     "output_type": "display_data"
    },
    {
     "name": "stdout",
     "output_type": "stream",
     "text": [
      " Month_to_end_contract distribution\n"
     ]
    },
    {
     "data": {
      "image/png": "[encoded data removed]",
      "text/plain": [
       "<Figure size 1224x720 with 1 Axes>"
      ]
     },
     "metadata": {
      "needs_background": "light"
     },
     "output_type": "display_data"
    },
    {
     "name": "stdout",
     "output_type": "stream",
     "text": [
      " Lifetime distribution\n"
     ]
    },
    {
     "data": {
      "image/png": "[encoded data removed]",
      "text/plain": [
       "<Figure size 1224x720 with 1 Axes>"
      ]
     },
     "metadata": {
      "needs_background": "light"
     },
     "output_type": "display_data"
    },
    {
     "name": "stdout",
     "output_type": "stream",
     "text": [
      " Avg_class_frequency_total distribution\n"
     ]
    },
    {
     "data": {
      "image/png": "[encoded data removed]",
      "text/plain": [
       "<Figure size 1224x720 with 1 Axes>"
      ]
     },
     "metadata": {
      "needs_background": "light"
     },
     "output_type": "display_data"
    },
    {
     "name": "stdout",
     "output_type": "stream",
     "text": [
      " Avg_class_frequency_current_month distribution\n"
     ]
    },
    {
     "data": {
      "image/png": "[encoded data removed]",
      "text/plain": [
       "<Figure size 1224x720 with 1 Axes>"
      ]
     },
     "metadata": {
      "needs_background": "light"
     },
     "output_type": "display_data"
    }
   ],
   "source": [
    "plt.style.use('seaborn-deep')\n",
    "num_var_1 = num_var.drop('cluster_km', axis = 1)\n",
    "\n",
    "print('Numerical Featurs: ')\n",
    "for column in num_var_1:\n",
    "    print(' {:} distribution'.format(column))\n",
    "    fig,ax=plt.subplots(figsize=(17,10))\n",
    "    ax=sns.boxplot(x='cluster_km', y= column , data=num_var, showfliers = True)\n",
    "    plt.show()"
   ]
  },
  {
   "cell_type": "code",
   "execution_count": 70,
   "metadata": {},
   "outputs": [
    {
     "data": {
      "text/html": [
       "<div>\n",
       "<style scoped>\n",
       "    .dataframe tbody tr th:only-of-type {\n",
       "        vertical-align: middle;\n",
       "    }\n",
       "\n",
       "    .dataframe tbody tr th {\n",
       "        vertical-align: top;\n",
       "    }\n",
       "\n",
       "    .dataframe thead th {\n",
       "        text-align: right;\n",
       "    }\n",
       "</style>\n",
       "<table border=\"1\" class=\"dataframe\">\n",
       "  <thead>\n",
       "    <tr style=\"text-align: right;\">\n",
       "      <th></th>\n",
       "      <th>gender</th>\n",
       "      <th>Near_Location</th>\n",
       "      <th>Partner</th>\n",
       "      <th>Promo_friends</th>\n",
       "      <th>Phone</th>\n",
       "      <th>Group_visits</th>\n",
       "      <th>Churn</th>\n",
       "    </tr>\n",
       "    <tr>\n",
       "      <th>cluster_km</th>\n",
       "      <th></th>\n",
       "      <th></th>\n",
       "      <th></th>\n",
       "      <th></th>\n",
       "      <th></th>\n",
       "      <th></th>\n",
       "      <th></th>\n",
       "    </tr>\n",
       "  </thead>\n",
       "  <tbody>\n",
       "    <tr>\n",
       "      <th>0</th>\n",
       "      <td>0</td>\n",
       "      <td>1</td>\n",
       "      <td>1</td>\n",
       "      <td>1</td>\n",
       "      <td>1</td>\n",
       "      <td>1</td>\n",
       "      <td>0</td>\n",
       "    </tr>\n",
       "    <tr>\n",
       "      <th>1</th>\n",
       "      <td>0</td>\n",
       "      <td>0</td>\n",
       "      <td>0</td>\n",
       "      <td>0</td>\n",
       "      <td>1</td>\n",
       "      <td>0</td>\n",
       "      <td>0</td>\n",
       "    </tr>\n",
       "    <tr>\n",
       "      <th>2</th>\n",
       "      <td>1</td>\n",
       "      <td>1</td>\n",
       "      <td>0</td>\n",
       "      <td>0</td>\n",
       "      <td>1</td>\n",
       "      <td>1</td>\n",
       "      <td>0</td>\n",
       "    </tr>\n",
       "    <tr>\n",
       "      <th>3</th>\n",
       "      <td>1</td>\n",
       "      <td>1</td>\n",
       "      <td>0</td>\n",
       "      <td>0</td>\n",
       "      <td>0</td>\n",
       "      <td>0</td>\n",
       "      <td>0</td>\n",
       "    </tr>\n",
       "    <tr>\n",
       "      <th>4</th>\n",
       "      <td>0</td>\n",
       "      <td>1</td>\n",
       "      <td>0</td>\n",
       "      <td>0</td>\n",
       "      <td>1</td>\n",
       "      <td>0</td>\n",
       "      <td>1</td>\n",
       "    </tr>\n",
       "  </tbody>\n",
       "</table>\n",
       "</div>"
      ],
      "text/plain": [
       "            gender  Near_Location  Partner  Promo_friends  Phone  \\\n",
       "cluster_km                                                         \n",
       "0                0              1        1              1      1   \n",
       "1                0              0        0              0      1   \n",
       "2                1              1        0              0      1   \n",
       "3                1              1        0              0      0   \n",
       "4                0              1        0              0      1   \n",
       "\n",
       "            Group_visits  Churn  \n",
       "cluster_km                       \n",
       "0                      1      0  \n",
       "1                      0      0  \n",
       "2                      1      0  \n",
       "3                      0      0  \n",
       "4                      0      1  "
      ]
     },
     "execution_count": 70,
     "metadata": {},
     "output_type": "execute_result"
    }
   ],
   "source": [
    "cat_var.groupby('cluster_km').median()"
   ]
  },
  {
   "cell_type": "markdown",
   "metadata": {},
   "source": [
    "The fourth cluster is the most likely to churn."
   ]
  },
  {
   "cell_type": "code",
   "execution_count": 75,
   "metadata": {},
   "outputs": [
    {
     "name": "stdout",
     "output_type": "stream",
     "text": [
      "Categorical Featurs: \n",
      " gender distribution\n"
     ]
    },
    {
     "data": {
      "image/png": "[encoded data removed]",
      "text/plain": [
       "<Figure size 432x288 with 1 Axes>"
      ]
     },
     "metadata": {
      "needs_background": "light"
     },
     "output_type": "display_data"
    },
    {
     "name": "stdout",
     "output_type": "stream",
     "text": [
      " Near_Location distribution\n"
     ]
    },
    {
     "data": {
      "image/png": "[encoded data removed]",
      "text/plain": [
       "<Figure size 432x288 with 1 Axes>"
      ]
     },
     "metadata": {
      "needs_background": "light"
     },
     "output_type": "display_data"
    },
    {
     "name": "stdout",
     "output_type": "stream",
     "text": [
      " Partner distribution\n"
     ]
    },
    {
     "data": {
      "image/png": "[encoded data removed]",
      "text/plain": [
       "<Figure size 432x288 with 1 Axes>"
      ]
     },
     "metadata": {
      "needs_background": "light"
     },
     "output_type": "display_data"
    },
    {
     "name": "stdout",
     "output_type": "stream",
     "text": [
      " Promo_friends distribution\n"
     ]
    },
    {
     "data": {
      "image/png": "[encoded data removed]",
      "text/plain": [
       "<Figure size 432x288 with 1 Axes>"
      ]
     },
     "metadata": {
      "needs_background": "light"
     },
     "output_type": "display_data"
    },
    {
     "name": "stdout",
     "output_type": "stream",
     "text": [
      " Phone distribution\n"
     ]
    },
    {
     "data": {
      "image/png": "[encoded data removed]",
      "text/plain": [
       "<Figure size 432x288 with 1 Axes>"
      ]
     },
     "metadata": {
      "needs_background": "light"
     },
     "output_type": "display_data"
    },
    {
     "name": "stdout",
     "output_type": "stream",
     "text": [
      " Group_visits distribution\n"
     ]
    },
    {
     "data": {
      "image/png": "[encoded data removed]",
      "text/plain": [
       "<Figure size 432x288 with 1 Axes>"
      ]
     },
     "metadata": {
      "needs_background": "light"
     },
     "output_type": "display_data"
    },
    {
     "name": "stdout",
     "output_type": "stream",
     "text": [
      " Churn distribution\n"
     ]
    },
    {
     "data": {
      "image/png": "[encoded data removed]",
      "text/plain": [
       "<Figure size 432x288 with 1 Axes>"
      ]
     },
     "metadata": {
      "needs_background": "light"
     },
     "output_type": "display_data"
    }
   ],
   "source": [
    "print('Categorical Featurs: ')\n",
    "\n",
    "cl_0 = cat_var.query('cluster_km == 0')\n",
    "cl_1 = cat_var.query('cluster_km == 1')\n",
    "cl_2 = cat_var.query('cluster_km == 2')\n",
    "cl_3 = cat_var.query('cluster_km == 3')\n",
    "cl_4 = cat_var.query('cluster_km == 4')\n",
    "\n",
    "for column in cat_var.drop('cluster_km', axis = 1):\n",
    "    print(' {:} distribution'.format(column))\n",
    "    #px.histogram(cat_var, x='cluster_km')\n",
    "    plt.hist([cl_0[column], cl_1[column], cl_2[column], cl_3[column], cl_4[column]], bins=30 , label=['cluster 0', 'cluster 1', 'cluster 2', 'cluster 3', 'cluster 4'])\n",
    "    plt.legend(loc='upper right')\n",
    "    plt.show()"
   ]
  },
  {
   "cell_type": "markdown",
   "metadata": {},
   "source": [
    "#### Calculate the churn rate for each cluster"
   ]
  },
  {
   "cell_type": "code",
   "execution_count": 76,
   "metadata": {},
   "outputs": [
    {
     "data": {
      "text/plain": [
       "cluster_km\n",
       "0   0.075\n",
       "1   0.401\n",
       "2   0.034\n",
       "3   0.267\n",
       "4   0.618\n",
       "Name: Churn, dtype: float64"
      ]
     },
     "execution_count": 76,
     "metadata": {},
     "output_type": "execute_result"
    }
   ],
   "source": [
    "cat_var.groupby('cluster_km')['Churn'].mean()"
   ]
  },
  {
   "cell_type": "code",
   "execution_count": 78,
   "metadata": {},
   "outputs": [
    {
     "name": "stdout",
     "output_type": "stream",
     "text": [
      "Churn distribution\n"
     ]
    },
    {
     "data": {
      "image/png": "[encoded data removed]",
      "text/plain": [
       "<Figure size 432x288 with 1 Axes>"
      ]
     },
     "metadata": {
      "needs_background": "light"
     },
     "output_type": "display_data"
    }
   ],
   "source": [
    "print('Churn distribution')\n",
    "plt.hist([cl_0['Churn'], cl_1['Churn'], cl_2['Churn'], cl_3['Churn'], cl_4['Churn']], bins=30 , label=['cluster 0', 'cluster 1', 'cluster 2', 'cluster 3', 'cluster 4'])\n",
    "plt.legend(loc='upper right')\n",
    "plt.show()"
   ]
  },
  {
   "cell_type": "markdown",
   "metadata": {},
   "source": [
    "**Conclusions:**\n",
    "\n",
    "- The first and fourth clusters are the ones with the highest churn rates\n",
    "\n",
    "- The zero and especialy secound clusters have very low churn rates"
   ]
  },
  {
   "cell_type": "markdown",
   "metadata": {},
   "source": [
    "<div class=\"alert alert-success\">\n",
    "<b>Reviewer's comment</b>\n",
    "\n",
    "Excellent, you identified the clusters and studied them!\n",
    "\n",
    "</div>"
   ]
  },
  {
   "cell_type": "markdown",
   "metadata": {},
   "source": [
    "### Step 5. Come up with conclusions and basic recommendations on working with customers\n"
   ]
  },
  {
   "cell_type": "markdown",
   "metadata": {},
   "source": [
    "**Overall conclusions**\n",
    "\n",
    "- Among those who left the majority is not from partner companies. Those who left made shorter term contacts, they attended classes less frequently and they are younger than those who stayed.  \n",
    "\n",
    "- The distribution of Month_to_end_contract shows that most of those who left were nearing the end of their contract\n",
    "\n",
    "- The Lifetime (or length of being a member of said gym) distribution shows that long time members leave more rarely\n",
    "\n",
    "- Metrics for logistic regression model, are better (though not by much) . The F-1 Score that is a measure of a test's accuracy, indicates that clearly.\n",
    "\n",
    "- The dendrogram showed that optimal number of clusters is 4, but we were told to use 5. The chart gives 5 only if 'Avg_class_frequency_total' and 'Month_to_end_contract', but they need to be dropped due to that collinearity thing.\n",
    "\n",
    "- The first and fourth clusters are the ones with the highest churn rates(churn rate of fourth cluster is especialy high).\n",
    "\n",
    "- The zero and especially second clusters have very low churn rates.\n",
    "\n",
    "- The zero and especially second have higher 'Avg_class_frequency_total', 'Avg_class_frequency_current_month', 'Avg_additional_charges_total', 'Age', 'Group_visits' and 'Lifetime', then other clusters.\n",
    "\n",
    "- The first and fourth clusters have lower 'Avg_class_frequency_total', 'Avg_class_frequency_current_month', 'Avg_additional_charges_total', 'Age', 'Group_visits' and 'Lifetime', then other clusters. The same features that are high in zero and second cluster.\n",
    "\n",
    "- All other features are varied between clusters, for example zero cluster has high number of users from partner companies, and second cluster has the lowest number of users from partner companies. While both clusters have low churn rates.\n",
    "\n",
    "- The defining feature of cluster 3 is that it concentrated all users that provided no phone number."
   ]
  },
  {
   "cell_type": "markdown",
   "metadata": {},
   "source": [
    "<div class=\"alert alert-success\">\n",
    "<b>Reviewer's comment</b>\n",
    "\n",
    "Nice summary of your research!\n",
    "\n",
    "</div>"
   ]
  },
  {
   "cell_type": "markdown",
   "metadata": {},
   "source": [
    "**Recommendations**\n",
    "\n",
    "- Most of those who left were nearing the end of their contract, That means that motivating users nearing the end of their contract might be a priority.\n",
    "\n",
    "- Most of those who left shorter term contacts, and thier duration of being a member of said gym was shorter. So perheps making long term contracts more atractive and/or offering aditional things to clients who stay a certain time (massages, cafe cupons, sport inventory,etc...). Or a lottery thing say a free massage is raffled among long term clients or something (depands on budget, with the budget even a week in good spa resort tickets can be raffled, with lifetime being argument for number of lottery tickets or somthing). \n",
    "\n",
    "- Age and class_frequency are factors with high influence on churn rate, younger users and users with lower class attendance frequancy, tend to leave. So it might be a good idea to add more ativities and classes that interest those young users and appeal to them, thus giving them one more reason to stay (after all low atendance, might indicate lack of interest).  "
   ]
  },
  {
   "cell_type": "markdown",
   "metadata": {},
   "source": [
    "<div class=\"alert alert-success\">\n",
    "<b>Reviewer's comment</b>\n",
    "\n",
    "Recommendations are based on the data, well done!\n",
    "\n",
    "</div>"
   ]
  },
  {
   "cell_type": "code",
   "execution_count": null,
   "metadata": {},
   "outputs": [],
   "source": []
  }
 ],
 "metadata": {
  "ExecuteTimeLog": [
   {
    "duration": 23300,
    "start_time": "2022-05-29T08:25:44.009Z"
   },
   {
    "duration": 1386,
    "start_time": "2022-05-29T08:26:34.311Z"
   },
   {
    "duration": 3,
    "start_time": "2022-05-29T08:26:35.699Z"
   },
   {
    "duration": 165,
    "start_time": "2022-05-29T08:33:14.063Z"
   },
   {
    "duration": 44,
    "start_time": "2022-05-29T10:49:36.601Z"
   },
   {
    "duration": 82,
    "start_time": "2022-05-29T10:50:26.676Z"
   },
   {
    "duration": 10,
    "start_time": "2022-05-29T10:50:37.687Z"
   },
   {
    "duration": 27,
    "start_time": "2022-05-29T10:50:48.467Z"
   },
   {
    "duration": 45,
    "start_time": "2022-05-29T10:51:28.886Z"
   },
   {
    "duration": 14,
    "start_time": "2022-05-29T10:54:12.628Z"
   },
   {
    "duration": 170,
    "start_time": "2022-05-29T11:49:36.973Z"
   },
   {
    "duration": 4,
    "start_time": "2022-05-29T11:59:36.568Z"
   },
   {
    "duration": 115,
    "start_time": "2022-05-29T12:00:01.269Z"
   },
   {
    "duration": 18,
    "start_time": "2022-05-29T12:00:10.583Z"
   },
   {
    "duration": 17,
    "start_time": "2022-05-29T12:00:30.731Z"
   },
   {
    "duration": 587,
    "start_time": "2022-05-29T12:00:42.963Z"
   },
   {
    "duration": 1817,
    "start_time": "2022-05-29T12:01:06.052Z"
   },
   {
    "duration": 1094,
    "start_time": "2022-05-29T12:02:47.395Z"
   },
   {
    "duration": 23,
    "start_time": "2022-05-29T12:04:20.587Z"
   },
   {
    "duration": 26,
    "start_time": "2022-05-29T12:06:48.836Z"
   },
   {
    "duration": 9,
    "start_time": "2022-05-29T12:07:27.099Z"
   },
   {
    "duration": 10,
    "start_time": "2022-05-29T12:07:55.317Z"
   },
   {
    "duration": 1570,
    "start_time": "2022-05-29T12:07:59.122Z"
   },
   {
    "duration": 1476,
    "start_time": "2022-05-29T12:08:12.252Z"
   },
   {
    "duration": 1641,
    "start_time": "2022-05-29T12:08:26.358Z"
   },
   {
    "duration": 1445,
    "start_time": "2022-05-29T12:08:36.498Z"
   },
   {
    "duration": 1532,
    "start_time": "2022-05-29T12:08:53.437Z"
   },
   {
    "duration": 1758,
    "start_time": "2022-05-29T12:10:47.329Z"
   },
   {
    "duration": 24,
    "start_time": "2022-05-29T12:11:12.915Z"
   },
   {
    "duration": 18,
    "start_time": "2022-05-29T12:23:46.085Z"
   },
   {
    "duration": 995,
    "start_time": "2022-05-29T12:25:03.647Z"
   },
   {
    "duration": 996,
    "start_time": "2022-05-29T12:25:22.254Z"
   },
   {
    "duration": 1706,
    "start_time": "2022-05-29T12:28:05.589Z"
   },
   {
    "duration": 3693,
    "start_time": "2022-05-29T12:29:41.905Z"
   },
   {
    "duration": 3418,
    "start_time": "2022-05-29T12:33:30.068Z"
   },
   {
    "duration": 23,
    "start_time": "2022-05-29T12:34:45.433Z"
   },
   {
    "duration": 84925,
    "start_time": "2022-05-29T12:35:03.922Z"
   },
   {
    "duration": 7,
    "start_time": "2022-05-29T12:41:14.917Z"
   },
   {
    "duration": 5,
    "start_time": "2022-05-29T12:41:30.751Z"
   },
   {
    "duration": 3,
    "start_time": "2022-05-29T12:58:46.827Z"
   },
   {
    "duration": 3239,
    "start_time": "2022-05-29T13:01:36.977Z"
   },
   {
    "duration": 2925,
    "start_time": "2022-05-29T13:02:01.329Z"
   },
   {
    "duration": 2785,
    "start_time": "2022-05-29T13:03:04.953Z"
   },
   {
    "duration": 11,
    "start_time": "2022-05-29T13:03:48.177Z"
   },
   {
    "duration": 2874,
    "start_time": "2022-05-29T13:03:55.585Z"
   },
   {
    "duration": 13,
    "start_time": "2022-05-29T13:24:04.986Z"
   },
   {
    "duration": 264,
    "start_time": "2022-05-29T13:24:39.514Z"
   },
   {
    "duration": 11,
    "start_time": "2022-05-29T13:24:44.579Z"
   },
   {
    "duration": 21,
    "start_time": "2022-05-29T13:30:31.091Z"
   },
   {
    "duration": 47,
    "start_time": "2022-05-29T13:31:57.153Z"
   },
   {
    "duration": 191,
    "start_time": "2022-05-29T13:32:01.265Z"
   },
   {
    "duration": 4,
    "start_time": "2022-05-29T13:32:47.428Z"
   },
   {
    "duration": 225,
    "start_time": "2022-05-29T13:32:48.049Z"
   },
   {
    "duration": 442,
    "start_time": "2022-05-29T13:33:18.346Z"
   },
   {
    "duration": 69,
    "start_time": "2022-05-29T18:08:56.838Z"
   },
   {
    "duration": 24237,
    "start_time": "2022-05-29T18:09:09.870Z"
   },
   {
    "duration": 1807,
    "start_time": "2022-05-29T18:09:34.110Z"
   },
   {
    "duration": 3,
    "start_time": "2022-05-29T18:09:35.919Z"
   },
   {
    "duration": 283,
    "start_time": "2022-05-29T18:09:35.924Z"
   },
   {
    "duration": 0,
    "start_time": "2022-05-29T18:09:36.210Z"
   },
   {
    "duration": 0,
    "start_time": "2022-05-29T18:09:36.211Z"
   },
   {
    "duration": 0,
    "start_time": "2022-05-29T18:09:36.213Z"
   },
   {
    "duration": 0,
    "start_time": "2022-05-29T18:09:36.213Z"
   },
   {
    "duration": 0,
    "start_time": "2022-05-29T18:09:36.215Z"
   },
   {
    "duration": 0,
    "start_time": "2022-05-29T18:09:36.216Z"
   },
   {
    "duration": 0,
    "start_time": "2022-05-29T18:09:36.217Z"
   },
   {
    "duration": 0,
    "start_time": "2022-05-29T18:09:36.218Z"
   },
   {
    "duration": 0,
    "start_time": "2022-05-29T18:09:36.219Z"
   },
   {
    "duration": 0,
    "start_time": "2022-05-29T18:09:36.221Z"
   },
   {
    "duration": 0,
    "start_time": "2022-05-29T18:09:36.222Z"
   },
   {
    "duration": 0,
    "start_time": "2022-05-29T18:09:36.224Z"
   },
   {
    "duration": 0,
    "start_time": "2022-05-29T18:09:36.225Z"
   },
   {
    "duration": 0,
    "start_time": "2022-05-29T18:09:36.227Z"
   },
   {
    "duration": 57,
    "start_time": "2022-05-29T18:10:04.840Z"
   },
   {
    "duration": 12,
    "start_time": "2022-05-29T18:10:13.942Z"
   },
   {
    "duration": 16,
    "start_time": "2022-05-29T18:10:14.514Z"
   },
   {
    "duration": 62,
    "start_time": "2022-05-29T18:10:15.349Z"
   },
   {
    "duration": 20,
    "start_time": "2022-05-29T18:10:15.942Z"
   },
   {
    "duration": 20,
    "start_time": "2022-05-29T18:10:17.322Z"
   },
   {
    "duration": 3868,
    "start_time": "2022-05-29T18:10:28.087Z"
   },
   {
    "duration": 7,
    "start_time": "2022-05-29T18:10:31.958Z"
   },
   {
    "duration": 3412,
    "start_time": "2022-05-29T18:10:31.967Z"
   },
   {
    "duration": 26,
    "start_time": "2022-05-29T18:10:35.384Z"
   },
   {
    "duration": 2085,
    "start_time": "2022-05-29T18:10:35.412Z"
   },
   {
    "duration": 11,
    "start_time": "2022-05-29T18:10:37.499Z"
   },
   {
    "duration": 10,
    "start_time": "2022-05-29T18:10:41.879Z"
   },
   {
    "duration": 354,
    "start_time": "2022-05-29T18:10:43.239Z"
   },
   {
    "duration": 435,
    "start_time": "2022-05-29T18:10:44.478Z"
   },
   {
    "duration": 554,
    "start_time": "2022-05-29T18:13:21.949Z"
   },
   {
    "duration": 459,
    "start_time": "2022-05-29T18:13:33.527Z"
   },
   {
    "duration": 389,
    "start_time": "2022-05-29T18:16:24.270Z"
   },
   {
    "duration": 96,
    "start_time": "2022-05-30T09:33:00.356Z"
   },
   {
    "duration": 21808,
    "start_time": "2022-05-30T09:33:12.526Z"
   },
   {
    "duration": 1720,
    "start_time": "2022-05-30T09:33:34.337Z"
   },
   {
    "duration": 3,
    "start_time": "2022-05-30T09:33:36.059Z"
   },
   {
    "duration": 154,
    "start_time": "2022-05-30T09:33:36.065Z"
   },
   {
    "duration": 11,
    "start_time": "2022-05-30T09:33:36.220Z"
   },
   {
    "duration": 14,
    "start_time": "2022-05-30T09:33:36.233Z"
   },
   {
    "duration": 57,
    "start_time": "2022-05-30T09:33:36.249Z"
   },
   {
    "duration": 17,
    "start_time": "2022-05-30T09:33:36.308Z"
   },
   {
    "duration": 25,
    "start_time": "2022-05-30T09:33:36.328Z"
   },
   {
    "duration": 4021,
    "start_time": "2022-05-30T09:33:36.357Z"
   },
   {
    "duration": 11,
    "start_time": "2022-05-30T09:33:40.384Z"
   },
   {
    "duration": 3227,
    "start_time": "2022-05-30T09:33:40.399Z"
   },
   {
    "duration": 23,
    "start_time": "2022-05-30T09:33:43.628Z"
   },
   {
    "duration": 1961,
    "start_time": "2022-05-30T09:33:43.653Z"
   },
   {
    "duration": 10,
    "start_time": "2022-05-30T09:33:45.617Z"
   },
   {
    "duration": 26,
    "start_time": "2022-05-30T09:33:45.629Z"
   },
   {
    "duration": 547,
    "start_time": "2022-05-30T09:33:45.658Z"
   },
   {
    "duration": 510,
    "start_time": "2022-05-30T09:33:46.211Z"
   },
   {
    "duration": 8,
    "start_time": "2022-05-30T09:33:46.723Z"
   },
   {
    "duration": 661,
    "start_time": "2022-05-30T09:38:32.303Z"
   },
   {
    "duration": 8,
    "start_time": "2022-05-30T09:39:23.925Z"
   },
   {
    "duration": 675,
    "start_time": "2022-05-30T09:39:31.461Z"
   },
   {
    "duration": 10,
    "start_time": "2022-05-30T09:40:42.303Z"
   },
   {
    "duration": 8537,
    "start_time": "2022-05-30T09:44:27.903Z"
   },
   {
    "duration": 1534,
    "start_time": "2022-05-30T09:44:36.442Z"
   },
   {
    "duration": 6,
    "start_time": "2022-05-30T09:44:37.978Z"
   },
   {
    "duration": 142,
    "start_time": "2022-05-30T09:44:37.985Z"
   },
   {
    "duration": 16,
    "start_time": "2022-05-30T09:44:38.135Z"
   },
   {
    "duration": 28,
    "start_time": "2022-05-30T09:44:38.153Z"
   },
   {
    "duration": 64,
    "start_time": "2022-05-30T09:44:38.190Z"
   },
   {
    "duration": 20,
    "start_time": "2022-05-30T09:44:38.256Z"
   },
   {
    "duration": 37,
    "start_time": "2022-05-30T09:44:38.278Z"
   },
   {
    "duration": 3960,
    "start_time": "2022-05-30T09:44:38.317Z"
   },
   {
    "duration": 18,
    "start_time": "2022-05-30T09:44:42.284Z"
   },
   {
    "duration": 3290,
    "start_time": "2022-05-30T09:44:42.304Z"
   },
   {
    "duration": 26,
    "start_time": "2022-05-30T09:44:45.596Z"
   },
   {
    "duration": 2579,
    "start_time": "2022-05-30T09:44:45.626Z"
   },
   {
    "duration": 11,
    "start_time": "2022-05-30T09:44:48.217Z"
   },
   {
    "duration": 25,
    "start_time": "2022-05-30T09:44:48.233Z"
   },
   {
    "duration": 727,
    "start_time": "2022-05-30T09:44:48.260Z"
   },
   {
    "duration": 525,
    "start_time": "2022-05-30T09:44:48.997Z"
   },
   {
    "duration": 9,
    "start_time": "2022-05-30T09:44:49.526Z"
   },
   {
    "duration": 0,
    "start_time": "2022-05-30T09:46:43.275Z"
   },
   {
    "duration": 0,
    "start_time": "2022-05-30T09:46:43.276Z"
   },
   {
    "duration": 27,
    "start_time": "2022-05-30T09:46:48.211Z"
   },
   {
    "duration": 769,
    "start_time": "2022-05-30T09:46:55.627Z"
   },
   {
    "duration": 14592,
    "start_time": "2022-05-30T09:46:59.536Z"
   },
   {
    "duration": 37387,
    "start_time": "2022-05-30T09:47:19.664Z"
   },
   {
    "duration": 133207,
    "start_time": "2022-05-30T09:48:26.074Z"
   },
   {
    "duration": 1473,
    "start_time": "2022-05-30T09:57:31.928Z"
   },
   {
    "duration": 1305,
    "start_time": "2022-05-30T09:57:54.582Z"
   },
   {
    "duration": 1378,
    "start_time": "2022-05-30T09:59:33.821Z"
   },
   {
    "duration": 184,
    "start_time": "2022-05-30T10:25:54.263Z"
   },
   {
    "duration": 168,
    "start_time": "2022-05-30T10:26:43.343Z"
   },
   {
    "duration": 1883,
    "start_time": "2022-05-30T10:33:20.448Z"
   },
   {
    "duration": 3380,
    "start_time": "2022-05-30T10:33:45.457Z"
   },
   {
    "duration": 3084,
    "start_time": "2022-05-30T10:34:01.390Z"
   },
   {
    "duration": 178,
    "start_time": "2022-05-30T10:34:46.033Z"
   },
   {
    "duration": 2940,
    "start_time": "2022-05-30T10:34:57.520Z"
   },
   {
    "duration": 3008,
    "start_time": "2022-05-30T10:35:05.680Z"
   },
   {
    "duration": 766,
    "start_time": "2022-05-30T10:45:22.895Z"
   },
   {
    "duration": 1539,
    "start_time": "2022-05-30T10:48:35.255Z"
   },
   {
    "duration": 164,
    "start_time": "2022-05-30T10:50:14.236Z"
   },
   {
    "duration": 6,
    "start_time": "2022-05-30T10:50:26.544Z"
   },
   {
    "duration": 1416,
    "start_time": "2022-05-30T10:50:34.698Z"
   },
   {
    "duration": 1578,
    "start_time": "2022-05-30T10:51:40.045Z"
   },
   {
    "duration": 1761,
    "start_time": "2022-05-30T10:53:36.017Z"
   },
   {
    "duration": 6,
    "start_time": "2022-05-30T10:55:54.968Z"
   },
   {
    "duration": 1129,
    "start_time": "2022-05-30T10:59:38.509Z"
   },
   {
    "duration": 472,
    "start_time": "2022-05-30T10:59:47.203Z"
   },
   {
    "duration": 556,
    "start_time": "2022-05-30T11:01:07.470Z"
   },
   {
    "duration": 521,
    "start_time": "2022-05-30T11:01:22.740Z"
   },
   {
    "duration": 499,
    "start_time": "2022-05-30T11:06:08.480Z"
   },
   {
    "duration": 1853,
    "start_time": "2022-05-30T11:06:30.350Z"
   },
   {
    "duration": 1717,
    "start_time": "2022-05-30T11:09:15.172Z"
   },
   {
    "duration": 1811,
    "start_time": "2022-05-30T11:09:22.755Z"
   },
   {
    "duration": 1294,
    "start_time": "2022-05-30T11:09:32.356Z"
   },
   {
    "duration": 2084,
    "start_time": "2022-05-30T11:09:46.445Z"
   },
   {
    "duration": 378,
    "start_time": "2022-05-30T11:09:52.619Z"
   },
   {
    "duration": 73,
    "start_time": "2022-05-30T11:12:59.344Z"
   },
   {
    "duration": 1744,
    "start_time": "2022-05-30T11:13:19.218Z"
   },
   {
    "duration": 31,
    "start_time": "2022-05-30T11:13:44.973Z"
   },
   {
    "duration": 383,
    "start_time": "2022-05-30T11:14:03.743Z"
   },
   {
    "duration": 579,
    "start_time": "2022-05-30T11:15:16.375Z"
   },
   {
    "duration": 417,
    "start_time": "2022-05-30T11:16:07.339Z"
   },
   {
    "duration": 423,
    "start_time": "2022-05-30T11:16:42.807Z"
   },
   {
    "duration": 180,
    "start_time": "2022-05-30T11:18:17.729Z"
   },
   {
    "duration": 1798,
    "start_time": "2022-05-30T11:18:36.041Z"
   },
   {
    "duration": 1949,
    "start_time": "2022-05-30T11:23:34.680Z"
   },
   {
    "duration": 1792,
    "start_time": "2022-05-30T11:23:48.022Z"
   },
   {
    "duration": 1476,
    "start_time": "2022-05-30T11:25:08.847Z"
   },
   {
    "duration": 230,
    "start_time": "2022-05-30T11:26:24.663Z"
   },
   {
    "duration": 20,
    "start_time": "2022-05-30T11:27:00.908Z"
   },
   {
    "duration": 13,
    "start_time": "2022-05-30T11:27:43.840Z"
   },
   {
    "duration": 277,
    "start_time": "2022-05-30T11:30:08.138Z"
   },
   {
    "duration": 32,
    "start_time": "2022-05-30T11:34:20.287Z"
   },
   {
    "duration": 491,
    "start_time": "2022-05-30T11:34:30.256Z"
   },
   {
    "duration": 3237,
    "start_time": "2022-05-30T11:37:56.520Z"
   },
   {
    "duration": 2690,
    "start_time": "2022-05-30T11:38:41.463Z"
   },
   {
    "duration": 7,
    "start_time": "2022-05-30T11:41:18.167Z"
   },
   {
    "duration": 349,
    "start_time": "2022-05-30T11:56:50.562Z"
   },
   {
    "duration": 408,
    "start_time": "2022-05-30T11:57:42.204Z"
   },
   {
    "duration": 1186,
    "start_time": "2022-05-30T12:21:11.730Z"
   },
   {
    "duration": 125329,
    "start_time": "2022-05-30T12:21:32.247Z"
   },
   {
    "duration": 593,
    "start_time": "2022-05-30T12:24:30.113Z"
   }
  ],
  "kernelspec": {
   "display_name": "Python 3",
   "language": "python",
   "name": "python3"
  },
  "language_info": {
   "codemirror_mode": {
    "name": "ipython",
    "version": 3
   },
   "file_extension": ".py",
   "mimetype": "text/x-python",
   "name": "python",
   "nbconvert_exporter": "python",
   "pygments_lexer": "ipython3",
   "version": "3.8.8"
  },
  "toc": {
   "base_numbering": 1,
   "nav_menu": {},
   "number_sections": true,
   "sideBar": true,
   "skip_h1_title": true,
   "title_cell": "Table of Contents",
   "title_sidebar": "Contents",
   "toc_cell": false,
   "toc_position": {},
   "toc_section_display": true,
   "toc_window_display": false
  }
 },
 "nbformat": 4,
 "nbformat_minor": 2
}
